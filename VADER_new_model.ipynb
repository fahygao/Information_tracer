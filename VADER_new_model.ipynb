{
 "cells": [
  {
   "cell_type": "code",
   "execution_count": 1,
   "id": "aa64a134",
   "metadata": {},
   "outputs": [],
   "source": [
    "# combine all the file into one - Done\n",
    "\n",
    "# write the function to take lookback window from 2 to 14 and calculate the corresponding pnl  - Done\n",
    "\n",
    "# check each sector's pnl (later)\n",
    "\n",
    "# add interaction as the threshold - Done\n",
    "\n",
    "# remove all the extra strings  - Done"
   ]
  },
  {
   "cell_type": "code",
   "execution_count": 37,
   "id": "b04beb2f",
   "metadata": {
    "scrolled": true
   },
   "outputs": [
    {
     "name": "stdout",
     "output_type": "stream",
     "text": [
      "/Users/herculesgao/Desktop/Information_Tracer/January\n"
     ]
    }
   ],
   "source": [
    "cd January"
   ]
  },
  {
   "cell_type": "code",
   "execution_count": 38,
   "id": "72a551b3",
   "metadata": {
    "scrolled": true
   },
   "outputs": [
    {
     "name": "stdout",
     "output_type": "stream",
     "text": [
      "we need to remove the following stocks that does not have the same days ['AEE', 'BG', 'CDAY', 'DAY', 'IEX', 'MHK', 'MLM', 'TDY', 'VLTO', 'VMC', 'WTW']\n"
     ]
    }
   ],
   "source": [
    "import glob\n",
    "import pandas as pd\n",
    "import numpy as np\n",
    "import re\n",
    "from vaderSentiment.vaderSentiment import SentimentIntensityAnalyzer\n",
    "import requests\n",
    "import bs4 as bs\n",
    "\n",
    "analyser = SentimentIntensityAnalyzer()\n",
    "\n",
    "def sentiment_analyzer_scores(sentence):\n",
    "    score = analyser.polarity_scores(sentence)\n",
    "    return score\n",
    "\n",
    "\n",
    "\n",
    "df_stock = pd.DataFrame()\n",
    "for file_name in glob.glob('SPY500_stock*2024*.csv'):\n",
    "    x = pd.read_csv(file_name, low_memory=False)\n",
    "    df_stock = pd.concat([df_stock,x],axis=0)\n",
    "try: \n",
    "    df_stock = df_stock.drop(columns = 'Unnamed: 0')\n",
    "except:\n",
    "    print(\"No unnamed column\")\n",
    "df_stock.sort_values(['Symbol', 'Date'], inplace=True)\n",
    "\n",
    "df_temp = df_stock.groupby(['Symbol']).agg(numStock = ('Symbol', 'count')).reset_index()\n",
    "days = df_stock['Date'].nunique()\n",
    "\n",
    "excludedSymbol = list(df_temp[df_temp['numStock']< days]['Symbol'])\n",
    "if excludedSymbol:\n",
    "    print(\"we need to remove the following stocks that does not have the same days\", excludedSymbol)\n",
    "    df_stock = df_stock[~df_stock['Symbol'].isin(excludedSymbol)].reset_index(drop = True)\n",
    "# remove null \n",
    "\n",
    "null_list = list(set(df_stock[df_stock['Posts_t'].isnull()]['Symbol']))\n",
    "if null_list: \n",
    "    print(\"we need to remove the following stocks that does not have null\", null_list)\n",
    "    df_stock = df_stock[~df_stock['Symbol'].isin(null_list)].reset_index(drop = True)"
   ]
  },
  {
   "cell_type": "code",
   "execution_count": 39,
   "id": "4888a901",
   "metadata": {},
   "outputs": [
    {
     "data": {
      "text/html": [
       "<div>\n",
       "<style scoped>\n",
       "    .dataframe tbody tr th:only-of-type {\n",
       "        vertical-align: middle;\n",
       "    }\n",
       "\n",
       "    .dataframe tbody tr th {\n",
       "        vertical-align: top;\n",
       "    }\n",
       "\n",
       "    .dataframe thead th {\n",
       "        text-align: right;\n",
       "    }\n",
       "</style>\n",
       "<table border=\"1\" class=\"dataframe\">\n",
       "  <thead>\n",
       "    <tr style=\"text-align: right;\">\n",
       "      <th></th>\n",
       "      <th>Date</th>\n",
       "      <th>Symbol</th>\n",
       "      <th>Adj Close</th>\n",
       "      <th>Close</th>\n",
       "      <th>High</th>\n",
       "      <th>Low</th>\n",
       "      <th>Open</th>\n",
       "      <th>Volume</th>\n",
       "      <th>ImpliedVolcalls</th>\n",
       "      <th>ImpliedVolputs</th>\n",
       "      <th>company</th>\n",
       "      <th>Sentiment_Vader</th>\n",
       "      <th>Posts_t</th>\n",
       "      <th>interaction</th>\n",
       "      <th>Changes</th>\n",
       "    </tr>\n",
       "  </thead>\n",
       "  <tbody>\n",
       "    <tr>\n",
       "      <th>0</th>\n",
       "      <td>2024-01-02</td>\n",
       "      <td>A</td>\n",
       "      <td>138.789993</td>\n",
       "      <td>138.789993</td>\n",
       "      <td>140.589996</td>\n",
       "      <td>137.910004</td>\n",
       "      <td>138.190002</td>\n",
       "      <td>1165201.0</td>\n",
       "      <td>0.259651</td>\n",
       "      <td>0.247566</td>\n",
       "      <td>Agilent Technologies</td>\n",
       "      <td>0.0000</td>\n",
       "      <td>[]</td>\n",
       "      <td>0.0</td>\n",
       "      <td>-0.240005</td>\n",
       "    </tr>\n",
       "    <tr>\n",
       "      <th>1</th>\n",
       "      <td>2024-01-03</td>\n",
       "      <td>A</td>\n",
       "      <td>131.160004</td>\n",
       "      <td>131.160004</td>\n",
       "      <td>137.440002</td>\n",
       "      <td>131.065002</td>\n",
       "      <td>138.000000</td>\n",
       "      <td>2074454.0</td>\n",
       "      <td>0.301399</td>\n",
       "      <td>0.251716</td>\n",
       "      <td>Agilent Technologies</td>\n",
       "      <td>0.0000</td>\n",
       "      <td>[]</td>\n",
       "      <td>0.0</td>\n",
       "      <td>-7.589996</td>\n",
       "    </tr>\n",
       "    <tr>\n",
       "      <th>2</th>\n",
       "      <td>2024-01-04</td>\n",
       "      <td>A</td>\n",
       "      <td>131.000000</td>\n",
       "      <td>131.000000</td>\n",
       "      <td>131.494995</td>\n",
       "      <td>130.240005</td>\n",
       "      <td>130.550003</td>\n",
       "      <td>2446585.0</td>\n",
       "      <td>0.310310</td>\n",
       "      <td>0.277351</td>\n",
       "      <td>Agilent Technologies</td>\n",
       "      <td>0.0000</td>\n",
       "      <td>[]</td>\n",
       "      <td>0.0</td>\n",
       "      <td>-7.750000</td>\n",
       "    </tr>\n",
       "    <tr>\n",
       "      <th>3</th>\n",
       "      <td>2024-01-05</td>\n",
       "      <td>A</td>\n",
       "      <td>130.559998</td>\n",
       "      <td>130.559998</td>\n",
       "      <td>131.960007</td>\n",
       "      <td>128.619995</td>\n",
       "      <td>130.000000</td>\n",
       "      <td>1327687.0</td>\n",
       "      <td>0.323981</td>\n",
       "      <td>0.287361</td>\n",
       "      <td>Agilent Technologies</td>\n",
       "      <td>0.0000</td>\n",
       "      <td>[]</td>\n",
       "      <td>0.0</td>\n",
       "      <td>-8.190002</td>\n",
       "    </tr>\n",
       "    <tr>\n",
       "      <th>4</th>\n",
       "      <td>2024-01-08</td>\n",
       "      <td>A</td>\n",
       "      <td>133.380005</td>\n",
       "      <td>133.380005</td>\n",
       "      <td>133.570007</td>\n",
       "      <td>129.809998</td>\n",
       "      <td>130.139999</td>\n",
       "      <td>1247255.0</td>\n",
       "      <td>0.366461</td>\n",
       "      <td>0.314216</td>\n",
       "      <td>Agilent Technologies</td>\n",
       "      <td>0.0000</td>\n",
       "      <td>[]</td>\n",
       "      <td>0.0</td>\n",
       "      <td>2.820007</td>\n",
       "    </tr>\n",
       "    <tr>\n",
       "      <th>...</th>\n",
       "      <td>...</td>\n",
       "      <td>...</td>\n",
       "      <td>...</td>\n",
       "      <td>...</td>\n",
       "      <td>...</td>\n",
       "      <td>...</td>\n",
       "      <td>...</td>\n",
       "      <td>...</td>\n",
       "      <td>...</td>\n",
       "      <td>...</td>\n",
       "      <td>...</td>\n",
       "      <td>...</td>\n",
       "      <td>...</td>\n",
       "      <td>...</td>\n",
       "      <td>...</td>\n",
       "    </tr>\n",
       "    <tr>\n",
       "      <th>9855</th>\n",
       "      <td>2024-01-24</td>\n",
       "      <td>ZTS</td>\n",
       "      <td>186.070007</td>\n",
       "      <td>186.070007</td>\n",
       "      <td>189.696396</td>\n",
       "      <td>185.929993</td>\n",
       "      <td>188.809998</td>\n",
       "      <td>1500294.0</td>\n",
       "      <td>0.318854</td>\n",
       "      <td>0.265022</td>\n",
       "      <td>Zoetis</td>\n",
       "      <td>0.8750</td>\n",
       "      <td>[{'d': 'Will Zoetis Inc Deliver Long-Term Retu...</td>\n",
       "      <td>5.0</td>\n",
       "      <td>-2.029999</td>\n",
       "    </tr>\n",
       "    <tr>\n",
       "      <th>9856</th>\n",
       "      <td>2024-01-26</td>\n",
       "      <td>ZTS</td>\n",
       "      <td>191.535004</td>\n",
       "      <td>191.535004</td>\n",
       "      <td>192.880005</td>\n",
       "      <td>188.970001</td>\n",
       "      <td>189.210007</td>\n",
       "      <td>1538561.0</td>\n",
       "      <td>0.000000</td>\n",
       "      <td>0.000000</td>\n",
       "      <td>Zoetis</td>\n",
       "      <td>0.0000</td>\n",
       "      <td>[]</td>\n",
       "      <td>0.0</td>\n",
       "      <td>4.214996</td>\n",
       "    </tr>\n",
       "    <tr>\n",
       "      <th>9857</th>\n",
       "      <td>2024-01-29</td>\n",
       "      <td>ZTS</td>\n",
       "      <td>192.759995</td>\n",
       "      <td>192.759995</td>\n",
       "      <td>193.000000</td>\n",
       "      <td>189.960007</td>\n",
       "      <td>191.360001</td>\n",
       "      <td>1669900.0</td>\n",
       "      <td>0.000010</td>\n",
       "      <td>0.062509</td>\n",
       "      <td>Zoetis</td>\n",
       "      <td>0.7269</td>\n",
       "      <td>[{'d': 'Weekly Snacks #18\\n\\nEquities\\n- Nvidi...</td>\n",
       "      <td>3.0</td>\n",
       "      <td>NaN</td>\n",
       "    </tr>\n",
       "    <tr>\n",
       "      <th>9858</th>\n",
       "      <td>2024-01-30</td>\n",
       "      <td>ZTS</td>\n",
       "      <td>191.429993</td>\n",
       "      <td>191.429993</td>\n",
       "      <td>193.509995</td>\n",
       "      <td>190.440002</td>\n",
       "      <td>192.869995</td>\n",
       "      <td>1607500.0</td>\n",
       "      <td>0.000010</td>\n",
       "      <td>0.062509</td>\n",
       "      <td>Zoetis</td>\n",
       "      <td>0.0000</td>\n",
       "      <td>[{'d': 'Pierwsze w tym roku zakupy w portfelu ...</td>\n",
       "      <td>13.0</td>\n",
       "      <td>NaN</td>\n",
       "    </tr>\n",
       "    <tr>\n",
       "      <th>9859</th>\n",
       "      <td>2024-01-31</td>\n",
       "      <td>ZTS</td>\n",
       "      <td>187.809998</td>\n",
       "      <td>187.809998</td>\n",
       "      <td>192.779999</td>\n",
       "      <td>187.440002</td>\n",
       "      <td>192.130005</td>\n",
       "      <td>2150000.0</td>\n",
       "      <td>0.000010</td>\n",
       "      <td>0.062509</td>\n",
       "      <td>Zoetis</td>\n",
       "      <td>0.0000</td>\n",
       "      <td>[]</td>\n",
       "      <td>0.0</td>\n",
       "      <td>NaN</td>\n",
       "    </tr>\n",
       "  </tbody>\n",
       "</table>\n",
       "<p>9860 rows × 15 columns</p>\n",
       "</div>"
      ],
      "text/plain": [
       "            Date Symbol   Adj Close       Close        High         Low  \\\n",
       "0     2024-01-02      A  138.789993  138.789993  140.589996  137.910004   \n",
       "1     2024-01-03      A  131.160004  131.160004  137.440002  131.065002   \n",
       "2     2024-01-04      A  131.000000  131.000000  131.494995  130.240005   \n",
       "3     2024-01-05      A  130.559998  130.559998  131.960007  128.619995   \n",
       "4     2024-01-08      A  133.380005  133.380005  133.570007  129.809998   \n",
       "...          ...    ...         ...         ...         ...         ...   \n",
       "9855  2024-01-24    ZTS  186.070007  186.070007  189.696396  185.929993   \n",
       "9856  2024-01-26    ZTS  191.535004  191.535004  192.880005  188.970001   \n",
       "9857  2024-01-29    ZTS  192.759995  192.759995  193.000000  189.960007   \n",
       "9858  2024-01-30    ZTS  191.429993  191.429993  193.509995  190.440002   \n",
       "9859  2024-01-31    ZTS  187.809998  187.809998  192.779999  187.440002   \n",
       "\n",
       "            Open     Volume  ImpliedVolcalls  ImpliedVolputs  \\\n",
       "0     138.190002  1165201.0         0.259651        0.247566   \n",
       "1     138.000000  2074454.0         0.301399        0.251716   \n",
       "2     130.550003  2446585.0         0.310310        0.277351   \n",
       "3     130.000000  1327687.0         0.323981        0.287361   \n",
       "4     130.139999  1247255.0         0.366461        0.314216   \n",
       "...          ...        ...              ...             ...   \n",
       "9855  188.809998  1500294.0         0.318854        0.265022   \n",
       "9856  189.210007  1538561.0         0.000000        0.000000   \n",
       "9857  191.360001  1669900.0         0.000010        0.062509   \n",
       "9858  192.869995  1607500.0         0.000010        0.062509   \n",
       "9859  192.130005  2150000.0         0.000010        0.062509   \n",
       "\n",
       "                   company  Sentiment_Vader  \\\n",
       "0     Agilent Technologies           0.0000   \n",
       "1     Agilent Technologies           0.0000   \n",
       "2     Agilent Technologies           0.0000   \n",
       "3     Agilent Technologies           0.0000   \n",
       "4     Agilent Technologies           0.0000   \n",
       "...                    ...              ...   \n",
       "9855                Zoetis           0.8750   \n",
       "9856                Zoetis           0.0000   \n",
       "9857                Zoetis           0.7269   \n",
       "9858                Zoetis           0.0000   \n",
       "9859                Zoetis           0.0000   \n",
       "\n",
       "                                                Posts_t  interaction   Changes  \n",
       "0                                                    []          0.0 -0.240005  \n",
       "1                                                    []          0.0 -7.589996  \n",
       "2                                                    []          0.0 -7.750000  \n",
       "3                                                    []          0.0 -8.190002  \n",
       "4                                                    []          0.0  2.820007  \n",
       "...                                                 ...          ...       ...  \n",
       "9855  [{'d': 'Will Zoetis Inc Deliver Long-Term Retu...          5.0 -2.029999  \n",
       "9856                                                 []          0.0  4.214996  \n",
       "9857  [{'d': 'Weekly Snacks #18\\n\\nEquities\\n- Nvidi...          3.0       NaN  \n",
       "9858  [{'d': 'Pierwsze w tym roku zakupy w portfelu ...         13.0       NaN  \n",
       "9859                                                 []          0.0       NaN  \n",
       "\n",
       "[9860 rows x 15 columns]"
      ]
     },
     "execution_count": 39,
     "metadata": {},
     "output_type": "execute_result"
    }
   ],
   "source": [
    "df_stock"
   ]
  },
  {
   "cell_type": "code",
   "execution_count": 40,
   "id": "a2dfd01a",
   "metadata": {},
   "outputs": [],
   "source": [
    "df_stock.to_csv(\"SPY500_stock_2024_01_02_01_31.csv\", index = False)"
   ]
  },
  {
   "cell_type": "code",
   "execution_count": 41,
   "id": "f6f99a54",
   "metadata": {},
   "outputs": [],
   "source": [
    "#text-preprocessing\n",
    "def tweets_processing(df_stock):\n",
    "    tweetsT = []\n",
    "    sentiment_score = []\n",
    "    \n",
    "    for j in range(len(df_stock['Posts_t'])):\n",
    "        tweets = df_stock.iloc[j]['Posts_t']\n",
    "#         print(tweets)\n",
    "        tweets_temp = []\n",
    "        if len(tweets) >2:\n",
    "            tweets = tweets.split(\"\\'},\")\n",
    "            minS, maxS = 0,0\n",
    "#             print(j)\n",
    "            for i in range(len(tweets)):\n",
    " \n",
    "                test_tw = re.split(\" https://t\",re.split(\"'d': |'i':\",tweets[i])[1][1:-1])[0] # remove html and extra information\n",
    "                test_tw = test_tw[:-1].replace(\"\\\\n\", \" \")  # remove newline \n",
    "                test_tw = test_tw.replace(\"amp;\", \" \") # remove ampersand\n",
    "                new_score = sentiment_analyzer_scores(test_tw)['compound']\n",
    "                if new_score< minS: \n",
    "                    minS = new_score\n",
    "                elif new_score > maxS:\n",
    "                    maxS = new_score\n",
    "                tweets_temp.append(test_tw)\n",
    "            res = maxS+ minS\n",
    "            sentiment_score.append(res)\n",
    "        else:\n",
    "            sentiment_score.append(0.0)\n",
    "\n",
    "        tweetsT.append(tweets_temp)\n",
    "    df_stock['Tweets'] = tweetsT\n",
    "    df_stock['Sentiment_Vader_corrected'] = sentiment_score\n",
    "    return df_stock\n",
    "\n",
    "\n",
    "df_stock = tweets_processing(df_stock)\n",
    "\n",
    "\n"
   ]
  },
  {
   "cell_type": "code",
   "execution_count": 42,
   "id": "0ff8d39a",
   "metadata": {},
   "outputs": [
    {
     "data": {
      "text/html": [
       "<div>\n",
       "<style scoped>\n",
       "    .dataframe tbody tr th:only-of-type {\n",
       "        vertical-align: middle;\n",
       "    }\n",
       "\n",
       "    .dataframe tbody tr th {\n",
       "        vertical-align: top;\n",
       "    }\n",
       "\n",
       "    .dataframe thead th {\n",
       "        text-align: right;\n",
       "    }\n",
       "</style>\n",
       "<table border=\"1\" class=\"dataframe\">\n",
       "  <thead>\n",
       "    <tr style=\"text-align: right;\">\n",
       "      <th></th>\n",
       "      <th>Date</th>\n",
       "      <th>Symbol</th>\n",
       "      <th>Adj Close</th>\n",
       "      <th>Close</th>\n",
       "      <th>High</th>\n",
       "      <th>Low</th>\n",
       "      <th>Open</th>\n",
       "      <th>Volume</th>\n",
       "      <th>ImpliedVolcalls</th>\n",
       "      <th>ImpliedVolputs</th>\n",
       "      <th>company</th>\n",
       "      <th>Sentiment_Vader</th>\n",
       "      <th>Posts_t</th>\n",
       "      <th>interaction</th>\n",
       "      <th>Changes</th>\n",
       "      <th>Tweets</th>\n",
       "      <th>Sentiment_Vader_corrected</th>\n",
       "    </tr>\n",
       "  </thead>\n",
       "  <tbody>\n",
       "    <tr>\n",
       "      <th>0</th>\n",
       "      <td>2024-01-02</td>\n",
       "      <td>A</td>\n",
       "      <td>138.789993</td>\n",
       "      <td>138.789993</td>\n",
       "      <td>140.589996</td>\n",
       "      <td>137.910004</td>\n",
       "      <td>138.190002</td>\n",
       "      <td>1165201.0</td>\n",
       "      <td>0.259651</td>\n",
       "      <td>0.247566</td>\n",
       "      <td>Agilent Technologies</td>\n",
       "      <td>0.0000</td>\n",
       "      <td>[]</td>\n",
       "      <td>0.0</td>\n",
       "      <td>-0.240005</td>\n",
       "      <td>[]</td>\n",
       "      <td>0.0000</td>\n",
       "    </tr>\n",
       "    <tr>\n",
       "      <th>1</th>\n",
       "      <td>2024-01-03</td>\n",
       "      <td>A</td>\n",
       "      <td>131.160004</td>\n",
       "      <td>131.160004</td>\n",
       "      <td>137.440002</td>\n",
       "      <td>131.065002</td>\n",
       "      <td>138.000000</td>\n",
       "      <td>2074454.0</td>\n",
       "      <td>0.301399</td>\n",
       "      <td>0.251716</td>\n",
       "      <td>Agilent Technologies</td>\n",
       "      <td>0.0000</td>\n",
       "      <td>[]</td>\n",
       "      <td>0.0</td>\n",
       "      <td>-7.589996</td>\n",
       "      <td>[]</td>\n",
       "      <td>0.0000</td>\n",
       "    </tr>\n",
       "    <tr>\n",
       "      <th>2</th>\n",
       "      <td>2024-01-04</td>\n",
       "      <td>A</td>\n",
       "      <td>131.000000</td>\n",
       "      <td>131.000000</td>\n",
       "      <td>131.494995</td>\n",
       "      <td>130.240005</td>\n",
       "      <td>130.550003</td>\n",
       "      <td>2446585.0</td>\n",
       "      <td>0.310310</td>\n",
       "      <td>0.277351</td>\n",
       "      <td>Agilent Technologies</td>\n",
       "      <td>0.0000</td>\n",
       "      <td>[]</td>\n",
       "      <td>0.0</td>\n",
       "      <td>-7.750000</td>\n",
       "      <td>[]</td>\n",
       "      <td>0.0000</td>\n",
       "    </tr>\n",
       "    <tr>\n",
       "      <th>3</th>\n",
       "      <td>2024-01-05</td>\n",
       "      <td>A</td>\n",
       "      <td>130.559998</td>\n",
       "      <td>130.559998</td>\n",
       "      <td>131.960007</td>\n",
       "      <td>128.619995</td>\n",
       "      <td>130.000000</td>\n",
       "      <td>1327687.0</td>\n",
       "      <td>0.323981</td>\n",
       "      <td>0.287361</td>\n",
       "      <td>Agilent Technologies</td>\n",
       "      <td>0.0000</td>\n",
       "      <td>[]</td>\n",
       "      <td>0.0</td>\n",
       "      <td>-8.190002</td>\n",
       "      <td>[]</td>\n",
       "      <td>0.0000</td>\n",
       "    </tr>\n",
       "    <tr>\n",
       "      <th>4</th>\n",
       "      <td>2024-01-08</td>\n",
       "      <td>A</td>\n",
       "      <td>133.380005</td>\n",
       "      <td>133.380005</td>\n",
       "      <td>133.570007</td>\n",
       "      <td>129.809998</td>\n",
       "      <td>130.139999</td>\n",
       "      <td>1247255.0</td>\n",
       "      <td>0.366461</td>\n",
       "      <td>0.314216</td>\n",
       "      <td>Agilent Technologies</td>\n",
       "      <td>0.0000</td>\n",
       "      <td>[]</td>\n",
       "      <td>0.0</td>\n",
       "      <td>2.820007</td>\n",
       "      <td>[]</td>\n",
       "      <td>0.0000</td>\n",
       "    </tr>\n",
       "    <tr>\n",
       "      <th>...</th>\n",
       "      <td>...</td>\n",
       "      <td>...</td>\n",
       "      <td>...</td>\n",
       "      <td>...</td>\n",
       "      <td>...</td>\n",
       "      <td>...</td>\n",
       "      <td>...</td>\n",
       "      <td>...</td>\n",
       "      <td>...</td>\n",
       "      <td>...</td>\n",
       "      <td>...</td>\n",
       "      <td>...</td>\n",
       "      <td>...</td>\n",
       "      <td>...</td>\n",
       "      <td>...</td>\n",
       "      <td>...</td>\n",
       "      <td>...</td>\n",
       "    </tr>\n",
       "    <tr>\n",
       "      <th>9855</th>\n",
       "      <td>2024-01-24</td>\n",
       "      <td>ZTS</td>\n",
       "      <td>186.070007</td>\n",
       "      <td>186.070007</td>\n",
       "      <td>189.696396</td>\n",
       "      <td>185.929993</td>\n",
       "      <td>188.809998</td>\n",
       "      <td>1500294.0</td>\n",
       "      <td>0.318854</td>\n",
       "      <td>0.265022</td>\n",
       "      <td>Zoetis</td>\n",
       "      <td>0.8750</td>\n",
       "      <td>[{'d': 'Will Zoetis Inc Deliver Long-Term Retu...</td>\n",
       "      <td>5.0</td>\n",
       "      <td>-2.029999</td>\n",
       "      <td>[Will Zoetis Inc Deliver Long-Term Returns? $Z...</td>\n",
       "      <td>0.8750</td>\n",
       "    </tr>\n",
       "    <tr>\n",
       "      <th>9856</th>\n",
       "      <td>2024-01-26</td>\n",
       "      <td>ZTS</td>\n",
       "      <td>191.535004</td>\n",
       "      <td>191.535004</td>\n",
       "      <td>192.880005</td>\n",
       "      <td>188.970001</td>\n",
       "      <td>189.210007</td>\n",
       "      <td>1538561.0</td>\n",
       "      <td>0.000000</td>\n",
       "      <td>0.000000</td>\n",
       "      <td>Zoetis</td>\n",
       "      <td>0.0000</td>\n",
       "      <td>[]</td>\n",
       "      <td>0.0</td>\n",
       "      <td>4.214996</td>\n",
       "      <td>[]</td>\n",
       "      <td>0.0000</td>\n",
       "    </tr>\n",
       "    <tr>\n",
       "      <th>9857</th>\n",
       "      <td>2024-01-29</td>\n",
       "      <td>ZTS</td>\n",
       "      <td>192.759995</td>\n",
       "      <td>192.759995</td>\n",
       "      <td>193.000000</td>\n",
       "      <td>189.960007</td>\n",
       "      <td>191.360001</td>\n",
       "      <td>1669900.0</td>\n",
       "      <td>0.000010</td>\n",
       "      <td>0.062509</td>\n",
       "      <td>Zoetis</td>\n",
       "      <td>0.7269</td>\n",
       "      <td>[{'d': 'Weekly Snacks #18\\n\\nEquities\\n- Nvidi...</td>\n",
       "      <td>3.0</td>\n",
       "      <td>NaN</td>\n",
       "      <td>[Weekly Snacks #18  Equities - Nvidia $NVDA - ...</td>\n",
       "      <td>0.7269</td>\n",
       "    </tr>\n",
       "    <tr>\n",
       "      <th>9858</th>\n",
       "      <td>2024-01-30</td>\n",
       "      <td>ZTS</td>\n",
       "      <td>191.429993</td>\n",
       "      <td>191.429993</td>\n",
       "      <td>193.509995</td>\n",
       "      <td>190.440002</td>\n",
       "      <td>192.869995</td>\n",
       "      <td>1607500.0</td>\n",
       "      <td>0.000010</td>\n",
       "      <td>0.062509</td>\n",
       "      <td>Zoetis</td>\n",
       "      <td>0.0000</td>\n",
       "      <td>[{'d': 'Pierwsze w tym roku zakupy w portfelu ...</td>\n",
       "      <td>13.0</td>\n",
       "      <td>NaN</td>\n",
       "      <td>[Pierwsze w tym roku zakupy w portfelu dolarow...</td>\n",
       "      <td>0.0000</td>\n",
       "    </tr>\n",
       "    <tr>\n",
       "      <th>9859</th>\n",
       "      <td>2024-01-31</td>\n",
       "      <td>ZTS</td>\n",
       "      <td>187.809998</td>\n",
       "      <td>187.809998</td>\n",
       "      <td>192.779999</td>\n",
       "      <td>187.440002</td>\n",
       "      <td>192.130005</td>\n",
       "      <td>2150000.0</td>\n",
       "      <td>0.000010</td>\n",
       "      <td>0.062509</td>\n",
       "      <td>Zoetis</td>\n",
       "      <td>0.0000</td>\n",
       "      <td>[]</td>\n",
       "      <td>0.0</td>\n",
       "      <td>NaN</td>\n",
       "      <td>[]</td>\n",
       "      <td>0.0000</td>\n",
       "    </tr>\n",
       "  </tbody>\n",
       "</table>\n",
       "<p>9860 rows × 17 columns</p>\n",
       "</div>"
      ],
      "text/plain": [
       "            Date Symbol   Adj Close       Close        High         Low  \\\n",
       "0     2024-01-02      A  138.789993  138.789993  140.589996  137.910004   \n",
       "1     2024-01-03      A  131.160004  131.160004  137.440002  131.065002   \n",
       "2     2024-01-04      A  131.000000  131.000000  131.494995  130.240005   \n",
       "3     2024-01-05      A  130.559998  130.559998  131.960007  128.619995   \n",
       "4     2024-01-08      A  133.380005  133.380005  133.570007  129.809998   \n",
       "...          ...    ...         ...         ...         ...         ...   \n",
       "9855  2024-01-24    ZTS  186.070007  186.070007  189.696396  185.929993   \n",
       "9856  2024-01-26    ZTS  191.535004  191.535004  192.880005  188.970001   \n",
       "9857  2024-01-29    ZTS  192.759995  192.759995  193.000000  189.960007   \n",
       "9858  2024-01-30    ZTS  191.429993  191.429993  193.509995  190.440002   \n",
       "9859  2024-01-31    ZTS  187.809998  187.809998  192.779999  187.440002   \n",
       "\n",
       "            Open     Volume  ImpliedVolcalls  ImpliedVolputs  \\\n",
       "0     138.190002  1165201.0         0.259651        0.247566   \n",
       "1     138.000000  2074454.0         0.301399        0.251716   \n",
       "2     130.550003  2446585.0         0.310310        0.277351   \n",
       "3     130.000000  1327687.0         0.323981        0.287361   \n",
       "4     130.139999  1247255.0         0.366461        0.314216   \n",
       "...          ...        ...              ...             ...   \n",
       "9855  188.809998  1500294.0         0.318854        0.265022   \n",
       "9856  189.210007  1538561.0         0.000000        0.000000   \n",
       "9857  191.360001  1669900.0         0.000010        0.062509   \n",
       "9858  192.869995  1607500.0         0.000010        0.062509   \n",
       "9859  192.130005  2150000.0         0.000010        0.062509   \n",
       "\n",
       "                   company  Sentiment_Vader  \\\n",
       "0     Agilent Technologies           0.0000   \n",
       "1     Agilent Technologies           0.0000   \n",
       "2     Agilent Technologies           0.0000   \n",
       "3     Agilent Technologies           0.0000   \n",
       "4     Agilent Technologies           0.0000   \n",
       "...                    ...              ...   \n",
       "9855                Zoetis           0.8750   \n",
       "9856                Zoetis           0.0000   \n",
       "9857                Zoetis           0.7269   \n",
       "9858                Zoetis           0.0000   \n",
       "9859                Zoetis           0.0000   \n",
       "\n",
       "                                                Posts_t  interaction  \\\n",
       "0                                                    []          0.0   \n",
       "1                                                    []          0.0   \n",
       "2                                                    []          0.0   \n",
       "3                                                    []          0.0   \n",
       "4                                                    []          0.0   \n",
       "...                                                 ...          ...   \n",
       "9855  [{'d': 'Will Zoetis Inc Deliver Long-Term Retu...          5.0   \n",
       "9856                                                 []          0.0   \n",
       "9857  [{'d': 'Weekly Snacks #18\\n\\nEquities\\n- Nvidi...          3.0   \n",
       "9858  [{'d': 'Pierwsze w tym roku zakupy w portfelu ...         13.0   \n",
       "9859                                                 []          0.0   \n",
       "\n",
       "       Changes                                             Tweets  \\\n",
       "0    -0.240005                                                 []   \n",
       "1    -7.589996                                                 []   \n",
       "2    -7.750000                                                 []   \n",
       "3    -8.190002                                                 []   \n",
       "4     2.820007                                                 []   \n",
       "...        ...                                                ...   \n",
       "9855 -2.029999  [Will Zoetis Inc Deliver Long-Term Returns? $Z...   \n",
       "9856  4.214996                                                 []   \n",
       "9857       NaN  [Weekly Snacks #18  Equities - Nvidia $NVDA - ...   \n",
       "9858       NaN  [Pierwsze w tym roku zakupy w portfelu dolarow...   \n",
       "9859       NaN                                                 []   \n",
       "\n",
       "      Sentiment_Vader_corrected  \n",
       "0                        0.0000  \n",
       "1                        0.0000  \n",
       "2                        0.0000  \n",
       "3                        0.0000  \n",
       "4                        0.0000  \n",
       "...                         ...  \n",
       "9855                     0.8750  \n",
       "9856                     0.0000  \n",
       "9857                     0.7269  \n",
       "9858                     0.0000  \n",
       "9859                     0.0000  \n",
       "\n",
       "[9860 rows x 17 columns]"
      ]
     },
     "execution_count": 42,
     "metadata": {},
     "output_type": "execute_result"
    }
   ],
   "source": [
    "df_stock"
   ]
  },
  {
   "cell_type": "code",
   "execution_count": 43,
   "id": "cd262281",
   "metadata": {},
   "outputs": [],
   "source": [
    "\n",
    "def look_back_sentiment(df_stock, org = True, lookback_window=1):\n",
    "    n = df_stock['Date'].nunique()\n",
    "    Sentiment_Vader_2 = []\n",
    "#     t = 0 \n",
    "    for i in range(0,len(df_stock['Posts_t']),n):\n",
    "        for j in range(n):\n",
    "            if (j - lookback_window ) >=0:\n",
    "                past_days = df_stock.iloc[i+j-lookback_window:i+j]\n",
    "                if org:\n",
    "                    sentiment_now =  past_days[past_days['Posts_t'].str.len()>2]['Sentiment_Vader'].mean()\n",
    "                else:\n",
    "                    sentiment_now =  past_days[past_days['Posts_t'].str.len()>2]['Sentiment_Vader_corrected'].mean()\n",
    "                if np.isnan(sentiment_now):  #find all the empty twitter list\n",
    "                    Sentiment_Vader_2.append(0.0)\n",
    "                else:         \n",
    "                    Sentiment_Vader_2.append(sentiment_now)\n",
    "            else:  # outside the lookback window days \n",
    "                #base case \n",
    "                Sentiment_Vader_2.append(0.0)\n",
    "    df_stock['Sentiment_Vader_lookback'] = Sentiment_Vader_2\n",
    "    return df_stock\n"
   ]
  },
  {
   "cell_type": "code",
   "execution_count": 44,
   "id": "644cb28e",
   "metadata": {},
   "outputs": [],
   "source": [
    "\n",
    "def VADER_Sentiment_report(df_stock, lookback_window = 1, vader_threshold = 0.05,\n",
    "                           interact_threshold = 0, org = True):\n",
    "    pnl = 0 \n",
    "    stock_pnl = []\n",
    "    stock_names = []\n",
    "    len_tweets = []\n",
    "    interactions = []\n",
    "    sumA = 0 \n",
    "    sumTP = 0 \n",
    "    sumTN = 0\n",
    "    sumFP = 0 \n",
    "    sumFN = 0 \n",
    "    sumWrong = 0 \n",
    "    sumPlus = 0 \n",
    "    df_stock = look_back_sentiment(df_stock, org, lookback_window)\n",
    "    n = df_stock['Date'].nunique()\n",
    "    for i in range(0,len(df_stock['Symbol']),n): \n",
    "        symbol = df_stock['Symbol'][i]\n",
    "        temp_hold = 0\n",
    "        long = False\n",
    "        short = False\n",
    "        total_pnl = 0 \n",
    "        total_t = 0\n",
    "        num = 0 \n",
    "        num_s = 0 \n",
    "        interaction = 0 \n",
    "        for j in range(n):\n",
    "            change = df_stock['Changes'][i+j]\n",
    "            interaction += df_stock['interaction'][i+j]\n",
    "            tw = df_stock['Tweets'][i+j]\n",
    "#             print(tw, len(tw))\n",
    "            num_tw = len(tw)\n",
    "#             print(i+j, df_stock['Sentiment_Vader_lookback'][i+j])\n",
    "            if df_stock['Sentiment_Vader_lookback'][i+j] >= vader_threshold and df_stock['interaction'][i+j] >= interact_threshold:\n",
    "                # no position\n",
    "                if not long and not short:  # the first buy\n",
    "                    temp_hold = df_stock['Adj Close'][i+j]\n",
    "                    num+=1\n",
    "                    long = True\n",
    "                # have a short position and close the short position\n",
    "                elif short: \n",
    "                    total_pnl += (temp_hold + df_stock['Adj Close'][i+j])\n",
    "                    short = False\n",
    "                    num_s = 0 \n",
    "                elif long and not short: \n",
    "                    num+=1\n",
    "                    temp_hold += df_stock['Adj Close'][i+j]\n",
    "\n",
    "            elif df_stock['Sentiment_Vader_lookback'][i+j] <= - vader_threshold and df_stock['interaction'][i+j] >= interact_threshold:\n",
    "                # have a long position and close the long position \n",
    "                if long and not short: \n",
    "#                         print(\"sell signal and exit\")\n",
    "                    total_pnl += (df_stock['Adj Close'][i+j] -  (temp_hold/num))*1\n",
    "                    long = False\n",
    "                    num = 0 \n",
    "                # do not have long or short position\n",
    "                elif not long and not short: \n",
    "                    temp_hold = - df_stock['Adj Close'][i+j]\n",
    "                    short = True\n",
    "                    num_s = 1\n",
    "#                 # do not have a long position and already short a stock\n",
    "                elif not long and short: \n",
    "#                         print(\"short again\")\n",
    "                    temp_hold = (- df_stock['Adj Close'][i+j]+ temp_hold)/(num_s+1)\n",
    "                    num_s +=1\n",
    "\n",
    "            if long and not short and j == n-1: \n",
    "                total_pnl += (df_stock['Adj Close'][i+j] - (temp_hold/num))*1\n",
    "            elif short and not long and j == n-1: \n",
    "                total_pnl += ((df_stock['Adj Close'][i+j] + temp_hold)/(num_s+1))*1\n",
    "            if change > 0: sumPlus += 1\n",
    "            if (df_stock['Sentiment_Vader_lookback'][i+j] >= vader_threshold and change > 0) or (df_stock['Sentiment_Vader_lookback'][i+j] <= - vader_threshold  and float(change) < 0): \n",
    "                sumA += 1\n",
    "                if df_stock['Sentiment_Vader_lookback'][i+j] >= vader_threshold and change > 0:\n",
    "                    sumTP +=1\n",
    "                else:\n",
    "                    sumTN +=1\n",
    "            if (df_stock['Sentiment_Vader_lookback'][i+j] >=  vader_threshold  and change < 0) or (df_stock['Sentiment_Vader_lookback'][i+j] <= - vader_threshold  and float(change) > 0): \n",
    "                sumWrong += 1\n",
    "                if df_stock['Sentiment_Vader_lookback'][i+j] >= vader_threshold and change < 0:\n",
    "                    sumFP +=1\n",
    "                else:\n",
    "                    sumFN +=1\n",
    "        stock_names.append(df_stock['Symbol'][i])\n",
    "        len_tweets.append(num_tw)\n",
    "        interactions.append(interaction/n)\n",
    "        pnl += total_pnl\n",
    "        stock_pnl.append(total_pnl)\n",
    "    stock = sorted(set(df_stock['Symbol']))\n",
    "    df_pnl = pd.DataFrame({'Symbol': stock_names, 'PNL_VADER':stock_pnl, 'Len_Ts':len_tweets,'Interactions':interactions} )\n",
    "    l_hProfits = []\n",
    "    for i in range(0,len(df_stock['Symbol']),n): \n",
    "        l_hProfit = (df_stock['Adj Close'][i+n-1] - df_stock['Adj Close'][i])\n",
    "        l_hProfits.append(l_hProfit)\n",
    "    df_pnl['PNL_LongnHold'] = l_hProfits\n",
    "    \n",
    "    # add sectors \n",
    "\n",
    "    resp = requests.get('http://en.wikipedia.org/wiki/List_of_S%26P_500_companies')\n",
    "    soup = bs.BeautifulSoup(resp.text, 'lxml')\n",
    "    table = soup.find('table', {'class': 'wikitable sortable'})\n",
    "    table.findAll('tr')[1:][0].findAll('td')[1].text\n",
    "    tickers = []\n",
    "    sectors = []\n",
    "    dc = {}\n",
    "\n",
    "    for row in table.findAll('tr')[1:]:\n",
    "        ticker = row.findAll('td')[0].text\n",
    "        sector = row.findAll('td')[2].text\n",
    "        dc[ticker.replace('\\n', '').replace('.', '-')] = sector\n",
    "\n",
    "    extra_list = []\n",
    "\n",
    "    sectors = []\n",
    "    for i in df_pnl['Symbol']:\n",
    "        try:\n",
    "    #         print(i,dc[i])\n",
    "            if i == 'CDAY':\n",
    "              sectors.append('Information Technology') \n",
    "            else:\n",
    "                sectors.append(dc[i])\n",
    "        except: \n",
    "            \n",
    "            sec = \"\"\"\n",
    "            Sector Reference table: \n",
    "\n",
    "             'Health Care',\n",
    "             'Industrials',\n",
    "             'Information Technology',\n",
    "             'Consumer Discretionary',\n",
    "             'Financials',\n",
    "             'Consumer Staples',\n",
    "             'Utilities',\n",
    "             'Materials',\n",
    "             'Real Estate',\n",
    "             'Energy',\n",
    "             'Communication Services'\n",
    "\n",
    "             \"\"\"\n",
    "            print(\"we could not find the sector for the following!\",i)\n",
    "            print(sec)\n",
    "            add_sector = input(\"Please give a sector for the ticker below!\")\n",
    "            \n",
    "            extra_list.append((i,add_sector))\n",
    "            sectors.append(add_sector)\n",
    "    df_pnl['Sector'] = sectors\n",
    "    total_vader_num = len(df_stock[df_stock['Sentiment_Vader_corrected']!=0])\n",
    "    accuracy = sumA/total_vader_num\n",
    "    f1 = sumTP/(sumTP + 0.5*(sumFP + sumTN))\n",
    "\n",
    "    return pnl, df_pnl,accuracy,f1\n"
   ]
  },
  {
   "cell_type": "code",
   "execution_count": 46,
   "id": "2fe76673",
   "metadata": {
    "scrolled": false
   },
   "outputs": [
    {
     "name": "stdout",
     "output_type": "stream",
     "text": [
      "There are  20 unique days in Jan\n",
      "Different days (between 2-14) 2\n",
      "Orginal 5370.904605221649\n",
      "Text-preprocessed 5398.923127371423\n",
      "Different days (between 2-14) 3\n",
      "Orginal 7705.684755247657\n",
      "Text-preprocessed 7566.822080037585\n",
      "Different days (between 2-14) 4\n",
      "Orginal 8222.539014613756\n",
      "Text-preprocessed 7994.758482094377\n",
      "Different days (between 2-14) 5\n",
      "Orginal 7160.27946700009\n",
      "Text-preprocessed 7076.962328323892\n",
      "Different days (between 2-14) 6\n",
      "Orginal 6525.394089739993\n",
      "Text-preprocessed 6479.660657254084\n",
      "Different days (between 2-14) 7\n",
      "Orginal 5316.194463964747\n",
      "Text-preprocessed 5347.078336059988\n",
      "Different days (between 2-14) 8\n",
      "Orginal 4876.436291823433\n",
      "Text-preprocessed 5031.684818140069\n",
      "Different days (between 2-14) 9\n",
      "Orginal 4494.301283361344\n",
      "Text-preprocessed 4553.455406889593\n",
      "Different days (between 2-14) 10\n",
      "Orginal 3928.7202615007586\n",
      "Text-preprocessed 4113.522693118602\n",
      "Different days (between 2-14) 11\n",
      "Orginal 2593.3269394940935\n",
      "Text-preprocessed 2590.916415439535\n",
      "Different days (between 2-14) 12\n",
      "Orginal 2237.5329111253204\n",
      "Text-preprocessed 2320.520644082979\n",
      "Different days (between 2-14) 13\n",
      "Orginal 2003.4602009924633\n",
      "Text-preprocessed 2084.2871694852442\n",
      "Different days (between 2-14) 14\n",
      "Orginal 1533.801552930332\n",
      "Text-preprocessed 1496.2902070457972\n"
     ]
    }
   ],
   "source": [
    "lookback_days = []\n",
    "accuracys = []\n",
    "f1s = []\n",
    "pnls = []\n",
    "orgins = []\n",
    "interactions_thres = []\n",
    "vader_thres = []\n",
    "total_pnldfs = []\n",
    "month = 'Jan'\n",
    "print(\"There are \",df_stock['Date'].nunique(),\"unique days in\",month)\n",
    "\n",
    "for i in range(2,15):\n",
    "    print(\"Different days (between 2-14)\", i)\n",
    "    lookback_days.append(i)\n",
    "    pnl, df_pnl,accuracy,f1 = VADER_Sentiment_report(df_stock, i,\n",
    "                                                     vader_threshold = 0.01,\n",
    "                                                     interact_threshold = 0,\n",
    "                                                     org = True)\n",
    "    print(\"Orginal\", pnl)\n",
    "\n",
    "    accuracys.append(accuracy)\n",
    "    f1s.append(f1)\n",
    "    pnls.append(pnl)\n",
    "    interactions_thres.append(0)\n",
    "    vader_thres.append(0.01)\n",
    "    orgins.append(True)\n",
    "    total_pnldfs.append(df_pnl)\n",
    "    pnl, df_pnl,accuracy,f1 = VADER_Sentiment_report(df_stock, i,\n",
    "                                                     vader_threshold = 0.01,\n",
    "                                                     interact_threshold = 0,\n",
    "                                                     org = False)\n",
    "    print(\"Text-preprocessed\", pnl)\n",
    "    lookback_days.append(i)\n",
    "    accuracys.append(accuracy)\n",
    "    f1s.append(f1)\n",
    "    pnls.append(pnl)\n",
    "    interactions_thres.append(0)\n",
    "    vader_thres.append(0.01)\n",
    "    orgins.append(False)\n",
    "    total_pnldfs.append(df_pnl)\n",
    "    \n",
    "df_sum = pd.DataFrame({'lookback_days':lookback_days,\n",
    "                        'accuracy':accuracys,'f1':f1s,\n",
    "                        'pnl':pnls,\n",
    "                        'orgin':orgins,\n",
    "                        'interactions_thres':interactions_thres,\n",
    "                        'vader_thres':vader_thres})"
   ]
  },
  {
   "cell_type": "code",
   "execution_count": 61,
   "id": "142d067b",
   "metadata": {
    "scrolled": true
   },
   "outputs": [
    {
     "data": {
      "text/html": [
       "<div>\n",
       "<style scoped>\n",
       "    .dataframe tbody tr th:only-of-type {\n",
       "        vertical-align: middle;\n",
       "    }\n",
       "\n",
       "    .dataframe tbody tr th {\n",
       "        vertical-align: top;\n",
       "    }\n",
       "\n",
       "    .dataframe thead th {\n",
       "        text-align: right;\n",
       "    }\n",
       "</style>\n",
       "<table border=\"1\" class=\"dataframe\">\n",
       "  <thead>\n",
       "    <tr style=\"text-align: right;\">\n",
       "      <th></th>\n",
       "      <th>lookback_days</th>\n",
       "      <th>accuracy</th>\n",
       "      <th>f1</th>\n",
       "      <th>pnl</th>\n",
       "      <th>orgin</th>\n",
       "      <th>interactions_thres</th>\n",
       "      <th>vader_thres</th>\n",
       "    </tr>\n",
       "  </thead>\n",
       "  <tbody>\n",
       "    <tr>\n",
       "      <th>0</th>\n",
       "      <td>2</td>\n",
       "      <td>0.413144</td>\n",
       "      <td>0.610896</td>\n",
       "      <td>5370.904605</td>\n",
       "      <td>True</td>\n",
       "      <td>0</td>\n",
       "      <td>0.01</td>\n",
       "    </tr>\n",
       "    <tr>\n",
       "      <th>1</th>\n",
       "      <td>2</td>\n",
       "      <td>0.409493</td>\n",
       "      <td>0.609648</td>\n",
       "      <td>5398.923127</td>\n",
       "      <td>False</td>\n",
       "      <td>0</td>\n",
       "      <td>0.01</td>\n",
       "    </tr>\n",
       "    <tr>\n",
       "      <th>2</th>\n",
       "      <td>3</td>\n",
       "      <td>0.426595</td>\n",
       "      <td>0.627837</td>\n",
       "      <td>7705.684755</td>\n",
       "      <td>True</td>\n",
       "      <td>0</td>\n",
       "      <td>0.01</td>\n",
       "    </tr>\n",
       "    <tr>\n",
       "      <th>3</th>\n",
       "      <td>3</td>\n",
       "      <td>0.421983</td>\n",
       "      <td>0.626364</td>\n",
       "      <td>7566.822080</td>\n",
       "      <td>False</td>\n",
       "      <td>0</td>\n",
       "      <td>0.01</td>\n",
       "    </tr>\n",
       "    <tr>\n",
       "      <th>4</th>\n",
       "      <td>4</td>\n",
       "      <td>0.422560</td>\n",
       "      <td>0.640417</td>\n",
       "      <td>8222.539015</td>\n",
       "      <td>True</td>\n",
       "      <td>0</td>\n",
       "      <td>0.01</td>\n",
       "    </tr>\n",
       "    <tr>\n",
       "      <th>5</th>\n",
       "      <td>4</td>\n",
       "      <td>0.419101</td>\n",
       "      <td>0.640257</td>\n",
       "      <td>7994.758482</td>\n",
       "      <td>False</td>\n",
       "      <td>0</td>\n",
       "      <td>0.01</td>\n",
       "    </tr>\n",
       "    <tr>\n",
       "      <th>6</th>\n",
       "      <td>5</td>\n",
       "      <td>0.396618</td>\n",
       "      <td>0.618375</td>\n",
       "      <td>7160.279467</td>\n",
       "      <td>True</td>\n",
       "      <td>0</td>\n",
       "      <td>0.01</td>\n",
       "    </tr>\n",
       "    <tr>\n",
       "      <th>7</th>\n",
       "      <td>5</td>\n",
       "      <td>0.393159</td>\n",
       "      <td>0.618227</td>\n",
       "      <td>7076.962328</td>\n",
       "      <td>False</td>\n",
       "      <td>0</td>\n",
       "      <td>0.01</td>\n",
       "    </tr>\n",
       "    <tr>\n",
       "      <th>8</th>\n",
       "      <td>6</td>\n",
       "      <td>0.376249</td>\n",
       "      <td>0.641055</td>\n",
       "      <td>6525.394090</td>\n",
       "      <td>True</td>\n",
       "      <td>0</td>\n",
       "      <td>0.01</td>\n",
       "    </tr>\n",
       "    <tr>\n",
       "      <th>9</th>\n",
       "      <td>6</td>\n",
       "      <td>0.375096</td>\n",
       "      <td>0.640136</td>\n",
       "      <td>6479.660657</td>\n",
       "      <td>False</td>\n",
       "      <td>0</td>\n",
       "      <td>0.01</td>\n",
       "    </tr>\n",
       "    <tr>\n",
       "      <th>10</th>\n",
       "      <td>7</td>\n",
       "      <td>0.343005</td>\n",
       "      <td>0.638804</td>\n",
       "      <td>5316.194464</td>\n",
       "      <td>True</td>\n",
       "      <td>0</td>\n",
       "      <td>0.01</td>\n",
       "    </tr>\n",
       "    <tr>\n",
       "      <th>11</th>\n",
       "      <td>7</td>\n",
       "      <td>0.343390</td>\n",
       "      <td>0.640016</td>\n",
       "      <td>5347.078336</td>\n",
       "      <td>False</td>\n",
       "      <td>0</td>\n",
       "      <td>0.01</td>\n",
       "    </tr>\n",
       "    <tr>\n",
       "      <th>12</th>\n",
       "      <td>8</td>\n",
       "      <td>0.304958</td>\n",
       "      <td>0.647099</td>\n",
       "      <td>4876.436292</td>\n",
       "      <td>True</td>\n",
       "      <td>0</td>\n",
       "      <td>0.01</td>\n",
       "    </tr>\n",
       "    <tr>\n",
       "      <th>13</th>\n",
       "      <td>8</td>\n",
       "      <td>0.305534</td>\n",
       "      <td>0.647246</td>\n",
       "      <td>5031.684818</td>\n",
       "      <td>False</td>\n",
       "      <td>0</td>\n",
       "      <td>0.01</td>\n",
       "    </tr>\n",
       "    <tr>\n",
       "      <th>14</th>\n",
       "      <td>9</td>\n",
       "      <td>0.262106</td>\n",
       "      <td>0.643564</td>\n",
       "      <td>4494.301283</td>\n",
       "      <td>True</td>\n",
       "      <td>0</td>\n",
       "      <td>0.01</td>\n",
       "    </tr>\n",
       "    <tr>\n",
       "      <th>15</th>\n",
       "      <td>9</td>\n",
       "      <td>0.262106</td>\n",
       "      <td>0.643211</td>\n",
       "      <td>4553.455407</td>\n",
       "      <td>False</td>\n",
       "      <td>0</td>\n",
       "      <td>0.01</td>\n",
       "    </tr>\n",
       "    <tr>\n",
       "      <th>16</th>\n",
       "      <td>10</td>\n",
       "      <td>0.263067</td>\n",
       "      <td>0.645710</td>\n",
       "      <td>3928.720262</td>\n",
       "      <td>True</td>\n",
       "      <td>0</td>\n",
       "      <td>0.01</td>\n",
       "    </tr>\n",
       "    <tr>\n",
       "      <th>17</th>\n",
       "      <td>10</td>\n",
       "      <td>0.263067</td>\n",
       "      <td>0.645511</td>\n",
       "      <td>4113.522693</td>\n",
       "      <td>False</td>\n",
       "      <td>0</td>\n",
       "      <td>0.01</td>\n",
       "    </tr>\n",
       "    <tr>\n",
       "      <th>18</th>\n",
       "      <td>11</td>\n",
       "      <td>0.243467</td>\n",
       "      <td>0.700059</td>\n",
       "      <td>2593.326939</td>\n",
       "      <td>True</td>\n",
       "      <td>0</td>\n",
       "      <td>0.01</td>\n",
       "    </tr>\n",
       "    <tr>\n",
       "      <th>19</th>\n",
       "      <td>11</td>\n",
       "      <td>0.244043</td>\n",
       "      <td>0.700206</td>\n",
       "      <td>2590.916415</td>\n",
       "      <td>False</td>\n",
       "      <td>0</td>\n",
       "      <td>0.01</td>\n",
       "    </tr>\n",
       "    <tr>\n",
       "      <th>20</th>\n",
       "      <td>12</td>\n",
       "      <td>0.245196</td>\n",
       "      <td>0.701261</td>\n",
       "      <td>2237.532911</td>\n",
       "      <td>True</td>\n",
       "      <td>0</td>\n",
       "      <td>0.01</td>\n",
       "    </tr>\n",
       "    <tr>\n",
       "      <th>21</th>\n",
       "      <td>12</td>\n",
       "      <td>0.245580</td>\n",
       "      <td>0.701025</td>\n",
       "      <td>2320.520644</td>\n",
       "      <td>False</td>\n",
       "      <td>0</td>\n",
       "      <td>0.01</td>\n",
       "    </tr>\n",
       "    <tr>\n",
       "      <th>22</th>\n",
       "      <td>13</td>\n",
       "      <td>0.182936</td>\n",
       "      <td>0.662430</td>\n",
       "      <td>2003.460201</td>\n",
       "      <td>True</td>\n",
       "      <td>0</td>\n",
       "      <td>0.01</td>\n",
       "    </tr>\n",
       "    <tr>\n",
       "      <th>23</th>\n",
       "      <td>13</td>\n",
       "      <td>0.183321</td>\n",
       "      <td>0.662682</td>\n",
       "      <td>2084.287169</td>\n",
       "      <td>False</td>\n",
       "      <td>0</td>\n",
       "      <td>0.01</td>\n",
       "    </tr>\n",
       "    <tr>\n",
       "      <th>24</th>\n",
       "      <td>14</td>\n",
       "      <td>0.122214</td>\n",
       "      <td>0.601240</td>\n",
       "      <td>1533.801553</td>\n",
       "      <td>True</td>\n",
       "      <td>0</td>\n",
       "      <td>0.01</td>\n",
       "    </tr>\n",
       "    <tr>\n",
       "      <th>25</th>\n",
       "      <td>14</td>\n",
       "      <td>0.122214</td>\n",
       "      <td>0.600929</td>\n",
       "      <td>1496.290207</td>\n",
       "      <td>False</td>\n",
       "      <td>0</td>\n",
       "      <td>0.01</td>\n",
       "    </tr>\n",
       "  </tbody>\n",
       "</table>\n",
       "</div>"
      ],
      "text/plain": [
       "    lookback_days  accuracy        f1          pnl  orgin  interactions_thres  \\\n",
       "0               2  0.413144  0.610896  5370.904605   True                   0   \n",
       "1               2  0.409493  0.609648  5398.923127  False                   0   \n",
       "2               3  0.426595  0.627837  7705.684755   True                   0   \n",
       "3               3  0.421983  0.626364  7566.822080  False                   0   \n",
       "4               4  0.422560  0.640417  8222.539015   True                   0   \n",
       "5               4  0.419101  0.640257  7994.758482  False                   0   \n",
       "6               5  0.396618  0.618375  7160.279467   True                   0   \n",
       "7               5  0.393159  0.618227  7076.962328  False                   0   \n",
       "8               6  0.376249  0.641055  6525.394090   True                   0   \n",
       "9               6  0.375096  0.640136  6479.660657  False                   0   \n",
       "10              7  0.343005  0.638804  5316.194464   True                   0   \n",
       "11              7  0.343390  0.640016  5347.078336  False                   0   \n",
       "12              8  0.304958  0.647099  4876.436292   True                   0   \n",
       "13              8  0.305534  0.647246  5031.684818  False                   0   \n",
       "14              9  0.262106  0.643564  4494.301283   True                   0   \n",
       "15              9  0.262106  0.643211  4553.455407  False                   0   \n",
       "16             10  0.263067  0.645710  3928.720262   True                   0   \n",
       "17             10  0.263067  0.645511  4113.522693  False                   0   \n",
       "18             11  0.243467  0.700059  2593.326939   True                   0   \n",
       "19             11  0.244043  0.700206  2590.916415  False                   0   \n",
       "20             12  0.245196  0.701261  2237.532911   True                   0   \n",
       "21             12  0.245580  0.701025  2320.520644  False                   0   \n",
       "22             13  0.182936  0.662430  2003.460201   True                   0   \n",
       "23             13  0.183321  0.662682  2084.287169  False                   0   \n",
       "24             14  0.122214  0.601240  1533.801553   True                   0   \n",
       "25             14  0.122214  0.600929  1496.290207  False                   0   \n",
       "\n",
       "    vader_thres  \n",
       "0          0.01  \n",
       "1          0.01  \n",
       "2          0.01  \n",
       "3          0.01  \n",
       "4          0.01  \n",
       "5          0.01  \n",
       "6          0.01  \n",
       "7          0.01  \n",
       "8          0.01  \n",
       "9          0.01  \n",
       "10         0.01  \n",
       "11         0.01  \n",
       "12         0.01  \n",
       "13         0.01  \n",
       "14         0.01  \n",
       "15         0.01  \n",
       "16         0.01  \n",
       "17         0.01  \n",
       "18         0.01  \n",
       "19         0.01  \n",
       "20         0.01  \n",
       "21         0.01  \n",
       "22         0.01  \n",
       "23         0.01  \n",
       "24         0.01  \n",
       "25         0.01  "
      ]
     },
     "execution_count": 61,
     "metadata": {},
     "output_type": "execute_result"
    }
   ],
   "source": [
    "df_sum"
   ]
  },
  {
   "cell_type": "code",
   "execution_count": 62,
   "id": "4e36622d",
   "metadata": {},
   "outputs": [
    {
     "name": "stdout",
     "output_type": "stream",
     "text": [
      "Long and Hold pnl 1266.6167697906494\n"
     ]
    }
   ],
   "source": [
    "print(\"Long and Hold pnl\", sum(df_pnl['PNL_LongnHold']))"
   ]
  },
  {
   "cell_type": "code",
   "execution_count": 63,
   "id": "3bd4c60a",
   "metadata": {
    "scrolled": false
   },
   "outputs": [],
   "source": [
    "# 3 the most profitable one\n",
    "pnl, df_pnl,accuracy,f1 = VADER_Sentiment_report(df_stock, 4, 0.01, 0, True)"
   ]
  },
  {
   "cell_type": "code",
   "execution_count": 64,
   "id": "7eefef18",
   "metadata": {
    "scrolled": true
   },
   "outputs": [
    {
     "data": {
      "text/html": [
       "<div>\n",
       "<style scoped>\n",
       "    .dataframe tbody tr th:only-of-type {\n",
       "        vertical-align: middle;\n",
       "    }\n",
       "\n",
       "    .dataframe tbody tr th {\n",
       "        vertical-align: top;\n",
       "    }\n",
       "\n",
       "    .dataframe thead th {\n",
       "        text-align: right;\n",
       "    }\n",
       "</style>\n",
       "<table border=\"1\" class=\"dataframe\">\n",
       "  <thead>\n",
       "    <tr style=\"text-align: right;\">\n",
       "      <th></th>\n",
       "      <th>PNL_VADER</th>\n",
       "      <th>Len_Ts</th>\n",
       "      <th>Interactions</th>\n",
       "      <th>PNL_LongnHold</th>\n",
       "    </tr>\n",
       "  </thead>\n",
       "  <tbody>\n",
       "    <tr>\n",
       "      <th>count</th>\n",
       "      <td>493.000000</td>\n",
       "      <td>493.000000</td>\n",
       "      <td>493.000000</td>\n",
       "      <td>493.000000</td>\n",
       "    </tr>\n",
       "    <tr>\n",
       "      <th>mean</th>\n",
       "      <td>16.678578</td>\n",
       "      <td>21.170385</td>\n",
       "      <td>491.089351</td>\n",
       "      <td>2.569202</td>\n",
       "    </tr>\n",
       "    <tr>\n",
       "      <th>std</th>\n",
       "      <td>56.045059</td>\n",
       "      <td>68.137888</td>\n",
       "      <td>5633.587152</td>\n",
       "      <td>21.846207</td>\n",
       "    </tr>\n",
       "    <tr>\n",
       "      <th>min</th>\n",
       "      <td>-48.886253</td>\n",
       "      <td>0.000000</td>\n",
       "      <td>0.000000</td>\n",
       "      <td>-92.399994</td>\n",
       "    </tr>\n",
       "    <tr>\n",
       "      <th>25%</th>\n",
       "      <td>-0.874377</td>\n",
       "      <td>1.000000</td>\n",
       "      <td>0.750000</td>\n",
       "      <td>-4.180000</td>\n",
       "    </tr>\n",
       "    <tr>\n",
       "      <th>50%</th>\n",
       "      <td>0.913131</td>\n",
       "      <td>2.000000</td>\n",
       "      <td>5.850000</td>\n",
       "      <td>-0.659996</td>\n",
       "    </tr>\n",
       "    <tr>\n",
       "      <th>75%</th>\n",
       "      <td>9.040795</td>\n",
       "      <td>9.000000</td>\n",
       "      <td>39.400000</td>\n",
       "      <td>5.005005</td>\n",
       "    </tr>\n",
       "    <tr>\n",
       "      <th>max</th>\n",
       "      <td>704.134089</td>\n",
       "      <td>500.000000</td>\n",
       "      <td>115889.050000</td>\n",
       "      <td>192.429932</td>\n",
       "    </tr>\n",
       "  </tbody>\n",
       "</table>\n",
       "</div>"
      ],
      "text/plain": [
       "        PNL_VADER      Len_Ts   Interactions  PNL_LongnHold\n",
       "count  493.000000  493.000000     493.000000     493.000000\n",
       "mean    16.678578   21.170385     491.089351       2.569202\n",
       "std     56.045059   68.137888    5633.587152      21.846207\n",
       "min    -48.886253    0.000000       0.000000     -92.399994\n",
       "25%     -0.874377    1.000000       0.750000      -4.180000\n",
       "50%      0.913131    2.000000       5.850000      -0.659996\n",
       "75%      9.040795    9.000000      39.400000       5.005005\n",
       "max    704.134089  500.000000  115889.050000     192.429932"
      ]
     },
     "execution_count": 64,
     "metadata": {},
     "output_type": "execute_result"
    }
   ],
   "source": [
    "df_pnl.describe()"
   ]
  },
  {
   "cell_type": "code",
   "execution_count": 65,
   "id": "8e16e231",
   "metadata": {},
   "outputs": [
    {
     "data": {
      "text/plain": [
       "(1266.6167697906494, 8222.539014613756)"
      ]
     },
     "execution_count": 65,
     "metadata": {},
     "output_type": "execute_result"
    }
   ],
   "source": [
    "sum(df_pnl['PNL_LongnHold']),sum(df_pnl['PNL_VADER'])"
   ]
  },
  {
   "cell_type": "code",
   "execution_count": 66,
   "id": "2a090f49",
   "metadata": {},
   "outputs": [],
   "source": [
    "def get_df_summary(df,df_stock):\n",
    "    l_hProfits = []\n",
    "    pctVaderPNL = []\n",
    "    pctLHPNL = []\n",
    "    total_cost = 0\n",
    "\n",
    "    nuni = df_stock['Date'].nunique()\n",
    "    for i in range(0,len(df_stock['Symbol']),nuni): \n",
    "    #     print(df_stock['Symbol'][i], df_stock['Symbol'][i+5])\n",
    "        l_hProfit = df_stock['Adj Close'][i+nuni-1] - df_stock['Adj Close'][i]\n",
    "        l_hProfits.append(l_hProfit)\n",
    "      \n",
    "\n",
    "    df['PNL_LongnHold'] = l_hProfits\n",
    "    \n",
    "    for j in range(0,len(df_stock['Symbol']),nuni): \n",
    "        stock_vader = df[df['Symbol']==df_stock['Symbol'][j]]['PNL_VADER']\n",
    "        stock_lh = df[df['Symbol']==df_stock['Symbol'][j]]['PNL_LongnHold']\n",
    "        pnl = stock_vader.loc[stock_vader.index[0]]\n",
    "        pnl_lh = stock_lh.loc[stock_lh.index[0]]\n",
    "        pctVaderPNL.append((pnl/df_stock['Adj Close'][j])*100)\n",
    "        pctLHPNL.append((pnl_lh/df_stock['Adj Close'][j])*100)\n",
    "        total_cost += df_stock['Adj Close'][i]\n",
    "    print(\"PNL of VADER\", sum(df['PNL_VADER']))\n",
    "    \n",
    "    print(\"PNL of L/H\", sum(df['PNL_LongnHold']))\n",
    "\n",
    "    df['pctVaderPNL'] = pctVaderPNL\n",
    "    df['pctLHPNL'] = pctLHPNL\n",
    "    \n",
    "    print(\"PNL Percentage of VADER\", np.mean(df['pctVaderPNL']))\n",
    "    print(\"PNL Percentage of L/H\", np.mean(df['pctLHPNL']))\n",
    "    \n",
    "    df_summary = df.groupby('Sector', group_keys=True, as_index = False).agg(\n",
    "        avgPctVADER=('pctVaderPNL', np.mean),\n",
    "        avgPctL_H=('pctLHPNL', np.mean),\n",
    "        sumVADER=('PNL_VADER', np.sum),\n",
    "        sumL_H=('PNL_LongnHold', np.sum),\n",
    "        sumTwts =('Len_Ts', np.sum),\n",
    "        CountStocks=('Symbol', 'nunique'))\n",
    "    return df, df_summary,total_cost, (np.mean(df['pctVaderPNL'])>np.mean(df['pctLHPNL']))"
   ]
  },
  {
   "cell_type": "code",
   "execution_count": 67,
   "id": "6e08894f",
   "metadata": {},
   "outputs": [
    {
     "name": "stdout",
     "output_type": "stream",
     "text": [
      "PNL of VADER 8222.539014613756\n",
      "PNL of L/H 1266.6167697906494\n",
      "PNL Percentage of VADER 9.12505786187774\n",
      "PNL Percentage of L/H -0.7703966373278234\n"
     ]
    }
   ],
   "source": [
    "df, df_summary,total_cost,res = get_df_summary(df_pnl,df_stock)"
   ]
  },
  {
   "cell_type": "code",
   "execution_count": 68,
   "id": "5ee1a777",
   "metadata": {
    "scrolled": false
   },
   "outputs": [
    {
     "data": {
      "text/plain": [
       "96923.80300903319"
      ]
     },
     "execution_count": 68,
     "metadata": {},
     "output_type": "execute_result"
    }
   ],
   "source": [
    "total_cost"
   ]
  },
  {
   "cell_type": "code",
   "execution_count": 69,
   "id": "e50c8860",
   "metadata": {},
   "outputs": [
    {
     "data": {
      "text/plain": [
       "0.01306817036133634"
      ]
     },
     "execution_count": 69,
     "metadata": {},
     "output_type": "execute_result"
    }
   ],
   "source": [
    "excess_l_h_return = sum(df_pnl['PNL_LongnHold'])/total_cost \n",
    "excess_l_h_return"
   ]
  },
  {
   "cell_type": "code",
   "execution_count": 70,
   "id": "fe1a7f97",
   "metadata": {},
   "outputs": [
    {
     "data": {
      "text/plain": [
       "0.08483508446163039"
      ]
     },
     "execution_count": 70,
     "metadata": {},
     "output_type": "execute_result"
    }
   ],
   "source": [
    "excess_vader_return = sum(df_pnl['PNL_VADER'])/total_cost\n",
    "excess_vader_return"
   ]
  },
  {
   "cell_type": "code",
   "execution_count": 57,
   "id": "0ed05860",
   "metadata": {},
   "outputs": [
    {
     "data": {
      "text/plain": [
       "313.0415392391193"
      ]
     },
     "execution_count": 57,
     "metadata": {},
     "output_type": "execute_result"
    }
   ],
   "source": [
    "((0.6413453388548358/0.1552738109673628) -1)*100"
   ]
  },
  {
   "cell_type": "code",
   "execution_count": 58,
   "id": "a7613bce",
   "metadata": {},
   "outputs": [
    {
     "data": {
      "text/plain": [
       "15.527381096736281"
      ]
     },
     "execution_count": 58,
     "metadata": {},
     "output_type": "execute_result"
    }
   ],
   "source": [
    "#SPY index growth\n",
    "\n",
    "((4954.23/4288.36)-1)*100"
   ]
  },
  {
   "cell_type": "code",
   "execution_count": 59,
   "id": "fccdc7ca",
   "metadata": {},
   "outputs": [],
   "source": [
    "risk_free_return = 0.0522"
   ]
  },
  {
   "cell_type": "code",
   "execution_count": 74,
   "id": "2935cac7",
   "metadata": {},
   "outputs": [],
   "source": [
    "sigma_a = 0.017927704424869358"
   ]
  },
  {
   "cell_type": "code",
   "execution_count": 73,
   "id": "47d0c6ec",
   "metadata": {},
   "outputs": [
    {
     "data": {
      "text/plain": [
       "0.017927704424869358"
      ]
     },
     "execution_count": 73,
     "metadata": {},
     "output_type": "execute_result"
    }
   ],
   "source": [
    "np.std([0.09273696647187206,  0.1302448373498233,  0.09057778660135926, 0.08483508446163039 ])"
   ]
  },
  {
   "cell_type": "code",
   "execution_count": 75,
   "id": "5f5e3caf",
   "metadata": {
    "scrolled": true
   },
   "outputs": [
    {
     "data": {
      "text/plain": [
       "1.8203716264062741"
      ]
     },
     "execution_count": 75,
     "metadata": {},
     "output_type": "execute_result"
    }
   ],
   "source": [
    "sharpe_r = (excess_vader_return - risk_free_return)/sigma_a\n",
    "sharpe_r"
   ]
  },
  {
   "cell_type": "code",
   "execution_count": 76,
   "id": "6992bb19",
   "metadata": {
    "scrolled": true
   },
   "outputs": [
    {
     "data": {
      "text/html": [
       "<div>\n",
       "<style scoped>\n",
       "    .dataframe tbody tr th:only-of-type {\n",
       "        vertical-align: middle;\n",
       "    }\n",
       "\n",
       "    .dataframe tbody tr th {\n",
       "        vertical-align: top;\n",
       "    }\n",
       "\n",
       "    .dataframe thead th {\n",
       "        text-align: right;\n",
       "    }\n",
       "</style>\n",
       "<table border=\"1\" class=\"dataframe\">\n",
       "  <thead>\n",
       "    <tr style=\"text-align: right;\">\n",
       "      <th></th>\n",
       "      <th>Symbol</th>\n",
       "      <th>PNL_VADER</th>\n",
       "      <th>Len_Ts</th>\n",
       "      <th>Interactions</th>\n",
       "      <th>PNL_LongnHold</th>\n",
       "      <th>Sector</th>\n",
       "      <th>pctVaderPNL</th>\n",
       "      <th>pctLHPNL</th>\n",
       "    </tr>\n",
       "  </thead>\n",
       "  <tbody>\n",
       "    <tr>\n",
       "      <th>91</th>\n",
       "      <td>CHTR</td>\n",
       "      <td>262.977322</td>\n",
       "      <td>2</td>\n",
       "      <td>3.40</td>\n",
       "      <td>-20.800018</td>\n",
       "      <td>Communication Services</td>\n",
       "      <td>67.170012</td>\n",
       "      <td>-5.312768</td>\n",
       "    </tr>\n",
       "    <tr>\n",
       "      <th>97</th>\n",
       "      <td>CMCSA</td>\n",
       "      <td>1.463000</td>\n",
       "      <td>9</td>\n",
       "      <td>76.30</td>\n",
       "      <td>2.870003</td>\n",
       "      <td>Communication Services</td>\n",
       "      <td>3.350125</td>\n",
       "      <td>6.572024</td>\n",
       "    </tr>\n",
       "    <tr>\n",
       "      <th>134</th>\n",
       "      <td>DIS</td>\n",
       "      <td>71.794944</td>\n",
       "      <td>18</td>\n",
       "      <td>68.25</td>\n",
       "      <td>5.330002</td>\n",
       "      <td>Communication Services</td>\n",
       "      <td>79.139046</td>\n",
       "      <td>5.875222</td>\n",
       "    </tr>\n",
       "    <tr>\n",
       "      <th>146</th>\n",
       "      <td>EA</td>\n",
       "      <td>47.224998</td>\n",
       "      <td>32</td>\n",
       "      <td>25.90</td>\n",
       "      <td>1.800003</td>\n",
       "      <td>Communication Services</td>\n",
       "      <td>34.780527</td>\n",
       "      <td>1.325676</td>\n",
       "    </tr>\n",
       "    <tr>\n",
       "      <th>188</th>\n",
       "      <td>FOX</td>\n",
       "      <td>0.000000</td>\n",
       "      <td>0</td>\n",
       "      <td>0.00</td>\n",
       "      <td>1.870001</td>\n",
       "      <td>Communication Services</td>\n",
       "      <td>0.000000</td>\n",
       "      <td>6.645348</td>\n",
       "    </tr>\n",
       "    <tr>\n",
       "      <th>189</th>\n",
       "      <td>FOXA</td>\n",
       "      <td>1.357142</td>\n",
       "      <td>0</td>\n",
       "      <td>0.00</td>\n",
       "      <td>2.059999</td>\n",
       "      <td>Communication Services</td>\n",
       "      <td>4.487904</td>\n",
       "      <td>6.812168</td>\n",
       "    </tr>\n",
       "    <tr>\n",
       "      <th>204</th>\n",
       "      <td>GOOG</td>\n",
       "      <td>16.153584</td>\n",
       "      <td>0</td>\n",
       "      <td>0.25</td>\n",
       "      <td>2.240005</td>\n",
       "      <td>Communication Services</td>\n",
       "      <td>11.574652</td>\n",
       "      <td>1.605048</td>\n",
       "    </tr>\n",
       "    <tr>\n",
       "      <th>205</th>\n",
       "      <td>GOOGL</td>\n",
       "      <td>87.446660</td>\n",
       "      <td>0</td>\n",
       "      <td>1.25</td>\n",
       "      <td>1.930008</td>\n",
       "      <td>Communication Services</td>\n",
       "      <td>63.289181</td>\n",
       "      <td>1.396836</td>\n",
       "    </tr>\n",
       "    <tr>\n",
       "      <th>241</th>\n",
       "      <td>IPG</td>\n",
       "      <td>0.000000</td>\n",
       "      <td>2</td>\n",
       "      <td>0.00</td>\n",
       "      <td>-0.109997</td>\n",
       "      <td>Communication Services</td>\n",
       "      <td>0.000000</td>\n",
       "      <td>-0.332317</td>\n",
       "    </tr>\n",
       "    <tr>\n",
       "      <th>287</th>\n",
       "      <td>LYV</td>\n",
       "      <td>-2.773754</td>\n",
       "      <td>0</td>\n",
       "      <td>0.90</td>\n",
       "      <td>-2.950005</td>\n",
       "      <td>Communication Services</td>\n",
       "      <td>-3.021519</td>\n",
       "      <td>-3.213513</td>\n",
       "    </tr>\n",
       "    <tr>\n",
       "      <th>299</th>\n",
       "      <td>META</td>\n",
       "      <td>10.816887</td>\n",
       "      <td>453</td>\n",
       "      <td>5161.55</td>\n",
       "      <td>43.850006</td>\n",
       "      <td>Communication Services</td>\n",
       "      <td>3.123650</td>\n",
       "      <td>12.662799</td>\n",
       "    </tr>\n",
       "    <tr>\n",
       "      <th>319</th>\n",
       "      <td>MTCH</td>\n",
       "      <td>1.347566</td>\n",
       "      <td>29</td>\n",
       "      <td>31.95</td>\n",
       "      <td>1.970001</td>\n",
       "      <td>Communication Services</td>\n",
       "      <td>3.701086</td>\n",
       "      <td>5.410605</td>\n",
       "    </tr>\n",
       "    <tr>\n",
       "      <th>327</th>\n",
       "      <td>NFLX</td>\n",
       "      <td>54.384367</td>\n",
       "      <td>67</td>\n",
       "      <td>1238.95</td>\n",
       "      <td>95.609985</td>\n",
       "      <td>Communication Services</td>\n",
       "      <td>11.608189</td>\n",
       "      <td>20.407681</td>\n",
       "    </tr>\n",
       "    <tr>\n",
       "      <th>339</th>\n",
       "      <td>NWS</td>\n",
       "      <td>0.000000</td>\n",
       "      <td>0</td>\n",
       "      <td>0.00</td>\n",
       "      <td>-0.040001</td>\n",
       "      <td>Communication Services</td>\n",
       "      <td>0.000000</td>\n",
       "      <td>-0.156193</td>\n",
       "    </tr>\n",
       "    <tr>\n",
       "      <th>340</th>\n",
       "      <td>NWSA</td>\n",
       "      <td>0.000000</td>\n",
       "      <td>0</td>\n",
       "      <td>0.00</td>\n",
       "      <td>0.219999</td>\n",
       "      <td>Communication Services</td>\n",
       "      <td>0.000000</td>\n",
       "      <td>0.900898</td>\n",
       "    </tr>\n",
       "    <tr>\n",
       "      <th>345</th>\n",
       "      <td>OMC</td>\n",
       "      <td>0.175714</td>\n",
       "      <td>1</td>\n",
       "      <td>0.45</td>\n",
       "      <td>3.129997</td>\n",
       "      <td>Communication Services</td>\n",
       "      <td>0.201391</td>\n",
       "      <td>3.587389</td>\n",
       "    </tr>\n",
       "    <tr>\n",
       "      <th>352</th>\n",
       "      <td>PARA</td>\n",
       "      <td>4.678334</td>\n",
       "      <td>3</td>\n",
       "      <td>28.60</td>\n",
       "      <td>0.190001</td>\n",
       "      <td>Communication Services</td>\n",
       "      <td>32.488431</td>\n",
       "      <td>1.319448</td>\n",
       "    </tr>\n",
       "    <tr>\n",
       "      <th>422</th>\n",
       "      <td>T</td>\n",
       "      <td>0.552499</td>\n",
       "      <td>23</td>\n",
       "      <td>69.60</td>\n",
       "      <td>0.425001</td>\n",
       "      <td>Communication Services</td>\n",
       "      <td>3.200112</td>\n",
       "      <td>2.461634</td>\n",
       "    </tr>\n",
       "    <tr>\n",
       "      <th>433</th>\n",
       "      <td>TMUS</td>\n",
       "      <td>53.434519</td>\n",
       "      <td>7</td>\n",
       "      <td>130.10</td>\n",
       "      <td>-0.680008</td>\n",
       "      <td>Communication Services</td>\n",
       "      <td>33.002605</td>\n",
       "      <td>-0.419991</td>\n",
       "    </tr>\n",
       "    <tr>\n",
       "      <th>443</th>\n",
       "      <td>TTWO</td>\n",
       "      <td>3.157503</td>\n",
       "      <td>0</td>\n",
       "      <td>0.50</td>\n",
       "      <td>5.669998</td>\n",
       "      <td>Communication Services</td>\n",
       "      <td>1.982609</td>\n",
       "      <td>3.560215</td>\n",
       "    </tr>\n",
       "    <tr>\n",
       "      <th>466</th>\n",
       "      <td>VZ</td>\n",
       "      <td>2.977782</td>\n",
       "      <td>12</td>\n",
       "      <td>125.65</td>\n",
       "      <td>3.469997</td>\n",
       "      <td>Communication Services</td>\n",
       "      <td>7.658904</td>\n",
       "      <td>8.924890</td>\n",
       "    </tr>\n",
       "    <tr>\n",
       "      <th>470</th>\n",
       "      <td>WBD</td>\n",
       "      <td>2.420834</td>\n",
       "      <td>2</td>\n",
       "      <td>23.25</td>\n",
       "      <td>-1.639999</td>\n",
       "      <td>Communication Services</td>\n",
       "      <td>20.761867</td>\n",
       "      <td>-14.065175</td>\n",
       "    </tr>\n",
       "  </tbody>\n",
       "</table>\n",
       "</div>"
      ],
      "text/plain": [
       "    Symbol   PNL_VADER  Len_Ts  Interactions  PNL_LongnHold  \\\n",
       "91    CHTR  262.977322       2          3.40     -20.800018   \n",
       "97   CMCSA    1.463000       9         76.30       2.870003   \n",
       "134    DIS   71.794944      18         68.25       5.330002   \n",
       "146     EA   47.224998      32         25.90       1.800003   \n",
       "188    FOX    0.000000       0          0.00       1.870001   \n",
       "189   FOXA    1.357142       0          0.00       2.059999   \n",
       "204   GOOG   16.153584       0          0.25       2.240005   \n",
       "205  GOOGL   87.446660       0          1.25       1.930008   \n",
       "241    IPG    0.000000       2          0.00      -0.109997   \n",
       "287    LYV   -2.773754       0          0.90      -2.950005   \n",
       "299   META   10.816887     453       5161.55      43.850006   \n",
       "319   MTCH    1.347566      29         31.95       1.970001   \n",
       "327   NFLX   54.384367      67       1238.95      95.609985   \n",
       "339    NWS    0.000000       0          0.00      -0.040001   \n",
       "340   NWSA    0.000000       0          0.00       0.219999   \n",
       "345    OMC    0.175714       1          0.45       3.129997   \n",
       "352   PARA    4.678334       3         28.60       0.190001   \n",
       "422      T    0.552499      23         69.60       0.425001   \n",
       "433   TMUS   53.434519       7        130.10      -0.680008   \n",
       "443   TTWO    3.157503       0          0.50       5.669998   \n",
       "466     VZ    2.977782      12        125.65       3.469997   \n",
       "470    WBD    2.420834       2         23.25      -1.639999   \n",
       "\n",
       "                     Sector  pctVaderPNL   pctLHPNL  \n",
       "91   Communication Services    67.170012  -5.312768  \n",
       "97   Communication Services     3.350125   6.572024  \n",
       "134  Communication Services    79.139046   5.875222  \n",
       "146  Communication Services    34.780527   1.325676  \n",
       "188  Communication Services     0.000000   6.645348  \n",
       "189  Communication Services     4.487904   6.812168  \n",
       "204  Communication Services    11.574652   1.605048  \n",
       "205  Communication Services    63.289181   1.396836  \n",
       "241  Communication Services     0.000000  -0.332317  \n",
       "287  Communication Services    -3.021519  -3.213513  \n",
       "299  Communication Services     3.123650  12.662799  \n",
       "319  Communication Services     3.701086   5.410605  \n",
       "327  Communication Services    11.608189  20.407681  \n",
       "339  Communication Services     0.000000  -0.156193  \n",
       "340  Communication Services     0.000000   0.900898  \n",
       "345  Communication Services     0.201391   3.587389  \n",
       "352  Communication Services    32.488431   1.319448  \n",
       "422  Communication Services     3.200112   2.461634  \n",
       "433  Communication Services    33.002605  -0.419991  \n",
       "443  Communication Services     1.982609   3.560215  \n",
       "466  Communication Services     7.658904   8.924890  \n",
       "470  Communication Services    20.761867 -14.065175  "
      ]
     },
     "execution_count": 76,
     "metadata": {},
     "output_type": "execute_result"
    }
   ],
   "source": [
    "df[df['Sector']=='Communication Services']"
   ]
  },
  {
   "cell_type": "code",
   "execution_count": 77,
   "id": "dc6e8ef2",
   "metadata": {},
   "outputs": [
    {
     "data": {
      "text/html": [
       "<div>\n",
       "<style scoped>\n",
       "    .dataframe tbody tr th:only-of-type {\n",
       "        vertical-align: middle;\n",
       "    }\n",
       "\n",
       "    .dataframe tbody tr th {\n",
       "        vertical-align: top;\n",
       "    }\n",
       "\n",
       "    .dataframe thead th {\n",
       "        text-align: right;\n",
       "    }\n",
       "</style>\n",
       "<table border=\"1\" class=\"dataframe\">\n",
       "  <thead>\n",
       "    <tr style=\"text-align: right;\">\n",
       "      <th></th>\n",
       "      <th>Sector</th>\n",
       "      <th>avgPctVADER</th>\n",
       "      <th>avgPctL_H</th>\n",
       "      <th>sumVADER</th>\n",
       "      <th>sumL_H</th>\n",
       "      <th>sumTwts</th>\n",
       "      <th>CountStocks</th>\n",
       "    </tr>\n",
       "  </thead>\n",
       "  <tbody>\n",
       "    <tr>\n",
       "      <th>0</th>\n",
       "      <td>Communication Services</td>\n",
       "      <td>17.204490</td>\n",
       "      <td>2.998542</td>\n",
       "      <td>619.589899</td>\n",
       "      <td>146.414980</td>\n",
       "      <td>660</td>\n",
       "      <td>22</td>\n",
       "    </tr>\n",
       "    <tr>\n",
       "      <th>1</th>\n",
       "      <td>Consumer Discretionary</td>\n",
       "      <td>11.426304</td>\n",
       "      <td>-1.631056</td>\n",
       "      <td>644.412874</td>\n",
       "      <td>447.980263</td>\n",
       "      <td>2724</td>\n",
       "      <td>52</td>\n",
       "    </tr>\n",
       "    <tr>\n",
       "      <th>2</th>\n",
       "      <td>Consumer Staples</td>\n",
       "      <td>10.133011</td>\n",
       "      <td>-2.303066</td>\n",
       "      <td>289.028389</td>\n",
       "      <td>-16.130013</td>\n",
       "      <td>450</td>\n",
       "      <td>37</td>\n",
       "    </tr>\n",
       "    <tr>\n",
       "      <th>3</th>\n",
       "      <td>Energy</td>\n",
       "      <td>0.111778</td>\n",
       "      <td>-3.334867</td>\n",
       "      <td>29.900948</td>\n",
       "      <td>-24.303347</td>\n",
       "      <td>166</td>\n",
       "      <td>23</td>\n",
       "    </tr>\n",
       "    <tr>\n",
       "      <th>4</th>\n",
       "      <td>Financials</td>\n",
       "      <td>10.325220</td>\n",
       "      <td>0.946901</td>\n",
       "      <td>974.407381</td>\n",
       "      <td>203.138280</td>\n",
       "      <td>1676</td>\n",
       "      <td>71</td>\n",
       "    </tr>\n",
       "    <tr>\n",
       "      <th>5</th>\n",
       "      <td>Health Care</td>\n",
       "      <td>9.761156</td>\n",
       "      <td>-0.180961</td>\n",
       "      <td>2348.873343</td>\n",
       "      <td>10.564429</td>\n",
       "      <td>1462</td>\n",
       "      <td>64</td>\n",
       "    </tr>\n",
       "    <tr>\n",
       "      <th>6</th>\n",
       "      <td>Industrials</td>\n",
       "      <td>9.169544</td>\n",
       "      <td>0.217697</td>\n",
       "      <td>1595.675941</td>\n",
       "      <td>124.559588</td>\n",
       "      <td>832</td>\n",
       "      <td>75</td>\n",
       "    </tr>\n",
       "    <tr>\n",
       "      <th>7</th>\n",
       "      <td>Information Technology</td>\n",
       "      <td>9.438488</td>\n",
       "      <td>2.921076</td>\n",
       "      <td>1195.126956</td>\n",
       "      <td>773.233974</td>\n",
       "      <td>2061</td>\n",
       "      <td>63</td>\n",
       "    </tr>\n",
       "    <tr>\n",
       "      <th>8</th>\n",
       "      <td>Materials</td>\n",
       "      <td>11.328689</td>\n",
       "      <td>-5.368882</td>\n",
       "      <td>421.943564</td>\n",
       "      <td>-117.830051</td>\n",
       "      <td>214</td>\n",
       "      <td>26</td>\n",
       "    </tr>\n",
       "    <tr>\n",
       "      <th>9</th>\n",
       "      <td>Real Estate</td>\n",
       "      <td>1.123616</td>\n",
       "      <td>-5.725092</td>\n",
       "      <td>0.803551</td>\n",
       "      <td>-198.269943</td>\n",
       "      <td>95</td>\n",
       "      <td>31</td>\n",
       "    </tr>\n",
       "    <tr>\n",
       "      <th>10</th>\n",
       "      <td>Utilities</td>\n",
       "      <td>6.171431</td>\n",
       "      <td>-4.757858</td>\n",
       "      <td>102.776168</td>\n",
       "      <td>-82.741390</td>\n",
       "      <td>97</td>\n",
       "      <td>29</td>\n",
       "    </tr>\n",
       "  </tbody>\n",
       "</table>\n",
       "</div>"
      ],
      "text/plain": [
       "                    Sector  avgPctVADER  avgPctL_H     sumVADER      sumL_H  \\\n",
       "0   Communication Services    17.204490   2.998542   619.589899  146.414980   \n",
       "1   Consumer Discretionary    11.426304  -1.631056   644.412874  447.980263   \n",
       "2         Consumer Staples    10.133011  -2.303066   289.028389  -16.130013   \n",
       "3                   Energy     0.111778  -3.334867    29.900948  -24.303347   \n",
       "4               Financials    10.325220   0.946901   974.407381  203.138280   \n",
       "5              Health Care     9.761156  -0.180961  2348.873343   10.564429   \n",
       "6              Industrials     9.169544   0.217697  1595.675941  124.559588   \n",
       "7   Information Technology     9.438488   2.921076  1195.126956  773.233974   \n",
       "8                Materials    11.328689  -5.368882   421.943564 -117.830051   \n",
       "9              Real Estate     1.123616  -5.725092     0.803551 -198.269943   \n",
       "10               Utilities     6.171431  -4.757858   102.776168  -82.741390   \n",
       "\n",
       "    sumTwts  CountStocks  \n",
       "0       660           22  \n",
       "1      2724           52  \n",
       "2       450           37  \n",
       "3       166           23  \n",
       "4      1676           71  \n",
       "5      1462           64  \n",
       "6       832           75  \n",
       "7      2061           63  \n",
       "8       214           26  \n",
       "9        95           31  \n",
       "10       97           29  "
      ]
     },
     "execution_count": 77,
     "metadata": {},
     "output_type": "execute_result"
    }
   ],
   "source": [
    "df_summary"
   ]
  },
  {
   "cell_type": "code",
   "execution_count": 78,
   "id": "4c537535",
   "metadata": {},
   "outputs": [
    {
     "data": {
      "application/vnd.plotly.v1+json": {
       "config": {
        "plotlyServerURL": "https://plot.ly"
       },
       "data": [
        {
         "marker": {
          "color": [
           "green",
           "red",
           "wheat",
           "powderblue",
           "salmon",
           "brown",
           "pink",
           "darkblue",
           "sienna",
           "lightgreen",
           "lightskyblue"
          ]
         },
         "texttemplate": "%{y:.2f}",
         "type": "bar",
         "x": [
          "Communication Services",
          "Consumer Discretionary",
          "Consumer Staples",
          "Energy",
          "Financials",
          "Health Care",
          "Industrials",
          "Information Technology",
          "Materials",
          "Real Estate",
          "Utilities"
         ],
         "xaxis": "x",
         "y": [
          17.204489640445683,
          11.426304342929651,
          10.133011077419242,
          0.11177800319832823,
          10.325220110502617,
          9.761155893910681,
          9.169543652520304,
          9.438487751569264,
          11.328689272355525,
          1.1236164461511198,
          6.171430544473142
         ],
         "yaxis": "y"
        },
        {
         "marker": {
          "color": [
           "green",
           "red",
           "wheat",
           "powderblue",
           "salmon",
           "brown",
           "pink",
           "darkblue",
           "sienna",
           "lightgreen",
           "lightskyblue"
          ]
         },
         "texttemplate": "%{y:.2f}",
         "type": "bar",
         "x": [
          "Communication Services",
          "Consumer Discretionary",
          "Consumer Staples",
          "Energy",
          "Financials",
          "Health Care",
          "Industrials",
          "Information Technology",
          "Materials",
          "Real Estate",
          "Utilities"
         ],
         "xaxis": "x2",
         "y": [
          2.9985420722448466,
          -1.6310563147337143,
          -2.3030657553746714,
          -3.3348667529207683,
          0.9469008970144419,
          -0.18096067059531928,
          0.21769651181483185,
          2.9210760450106106,
          -5.368882072156244,
          -5.7250922119586996,
          -4.757858231197712
         ],
         "yaxis": "y2"
        }
       ],
       "layout": {
        "annotations": [
         {
          "font": {
           "size": 16
          },
          "showarrow": false,
          "text": "VADER PnL by Sectors with Sentiment Threshold = ±0.01",
          "x": 0.225,
          "xanchor": "center",
          "xref": "paper",
          "y": 1,
          "yanchor": "bottom",
          "yref": "paper"
         },
         {
          "font": {
           "size": 16
          },
          "showarrow": false,
          "text": "L/H PnL by Sectors",
          "x": 0.775,
          "xanchor": "center",
          "xref": "paper",
          "y": 1,
          "yanchor": "bottom",
          "yref": "paper"
         }
        ],
        "template": {
         "data": {
          "bar": [
           {
            "error_x": {
             "color": "#2a3f5f"
            },
            "error_y": {
             "color": "#2a3f5f"
            },
            "marker": {
             "line": {
              "color": "#E5ECF6",
              "width": 0.5
             },
             "pattern": {
              "fillmode": "overlay",
              "size": 10,
              "solidity": 0.2
             }
            },
            "type": "bar"
           }
          ],
          "barpolar": [
           {
            "marker": {
             "line": {
              "color": "#E5ECF6",
              "width": 0.5
             },
             "pattern": {
              "fillmode": "overlay",
              "size": 10,
              "solidity": 0.2
             }
            },
            "type": "barpolar"
           }
          ],
          "carpet": [
           {
            "aaxis": {
             "endlinecolor": "#2a3f5f",
             "gridcolor": "white",
             "linecolor": "white",
             "minorgridcolor": "white",
             "startlinecolor": "#2a3f5f"
            },
            "baxis": {
             "endlinecolor": "#2a3f5f",
             "gridcolor": "white",
             "linecolor": "white",
             "minorgridcolor": "white",
             "startlinecolor": "#2a3f5f"
            },
            "type": "carpet"
           }
          ],
          "choropleth": [
           {
            "colorbar": {
             "outlinewidth": 0,
             "ticks": ""
            },
            "type": "choropleth"
           }
          ],
          "contour": [
           {
            "colorbar": {
             "outlinewidth": 0,
             "ticks": ""
            },
            "colorscale": [
             [
              0,
              "#0d0887"
             ],
             [
              0.1111111111111111,
              "#46039f"
             ],
             [
              0.2222222222222222,
              "#7201a8"
             ],
             [
              0.3333333333333333,
              "#9c179e"
             ],
             [
              0.4444444444444444,
              "#bd3786"
             ],
             [
              0.5555555555555556,
              "#d8576b"
             ],
             [
              0.6666666666666666,
              "#ed7953"
             ],
             [
              0.7777777777777778,
              "#fb9f3a"
             ],
             [
              0.8888888888888888,
              "#fdca26"
             ],
             [
              1,
              "#f0f921"
             ]
            ],
            "type": "contour"
           }
          ],
          "contourcarpet": [
           {
            "colorbar": {
             "outlinewidth": 0,
             "ticks": ""
            },
            "type": "contourcarpet"
           }
          ],
          "heatmap": [
           {
            "colorbar": {
             "outlinewidth": 0,
             "ticks": ""
            },
            "colorscale": [
             [
              0,
              "#0d0887"
             ],
             [
              0.1111111111111111,
              "#46039f"
             ],
             [
              0.2222222222222222,
              "#7201a8"
             ],
             [
              0.3333333333333333,
              "#9c179e"
             ],
             [
              0.4444444444444444,
              "#bd3786"
             ],
             [
              0.5555555555555556,
              "#d8576b"
             ],
             [
              0.6666666666666666,
              "#ed7953"
             ],
             [
              0.7777777777777778,
              "#fb9f3a"
             ],
             [
              0.8888888888888888,
              "#fdca26"
             ],
             [
              1,
              "#f0f921"
             ]
            ],
            "type": "heatmap"
           }
          ],
          "heatmapgl": [
           {
            "colorbar": {
             "outlinewidth": 0,
             "ticks": ""
            },
            "colorscale": [
             [
              0,
              "#0d0887"
             ],
             [
              0.1111111111111111,
              "#46039f"
             ],
             [
              0.2222222222222222,
              "#7201a8"
             ],
             [
              0.3333333333333333,
              "#9c179e"
             ],
             [
              0.4444444444444444,
              "#bd3786"
             ],
             [
              0.5555555555555556,
              "#d8576b"
             ],
             [
              0.6666666666666666,
              "#ed7953"
             ],
             [
              0.7777777777777778,
              "#fb9f3a"
             ],
             [
              0.8888888888888888,
              "#fdca26"
             ],
             [
              1,
              "#f0f921"
             ]
            ],
            "type": "heatmapgl"
           }
          ],
          "histogram": [
           {
            "marker": {
             "pattern": {
              "fillmode": "overlay",
              "size": 10,
              "solidity": 0.2
             }
            },
            "type": "histogram"
           }
          ],
          "histogram2d": [
           {
            "colorbar": {
             "outlinewidth": 0,
             "ticks": ""
            },
            "colorscale": [
             [
              0,
              "#0d0887"
             ],
             [
              0.1111111111111111,
              "#46039f"
             ],
             [
              0.2222222222222222,
              "#7201a8"
             ],
             [
              0.3333333333333333,
              "#9c179e"
             ],
             [
              0.4444444444444444,
              "#bd3786"
             ],
             [
              0.5555555555555556,
              "#d8576b"
             ],
             [
              0.6666666666666666,
              "#ed7953"
             ],
             [
              0.7777777777777778,
              "#fb9f3a"
             ],
             [
              0.8888888888888888,
              "#fdca26"
             ],
             [
              1,
              "#f0f921"
             ]
            ],
            "type": "histogram2d"
           }
          ],
          "histogram2dcontour": [
           {
            "colorbar": {
             "outlinewidth": 0,
             "ticks": ""
            },
            "colorscale": [
             [
              0,
              "#0d0887"
             ],
             [
              0.1111111111111111,
              "#46039f"
             ],
             [
              0.2222222222222222,
              "#7201a8"
             ],
             [
              0.3333333333333333,
              "#9c179e"
             ],
             [
              0.4444444444444444,
              "#bd3786"
             ],
             [
              0.5555555555555556,
              "#d8576b"
             ],
             [
              0.6666666666666666,
              "#ed7953"
             ],
             [
              0.7777777777777778,
              "#fb9f3a"
             ],
             [
              0.8888888888888888,
              "#fdca26"
             ],
             [
              1,
              "#f0f921"
             ]
            ],
            "type": "histogram2dcontour"
           }
          ],
          "mesh3d": [
           {
            "colorbar": {
             "outlinewidth": 0,
             "ticks": ""
            },
            "type": "mesh3d"
           }
          ],
          "parcoords": [
           {
            "line": {
             "colorbar": {
              "outlinewidth": 0,
              "ticks": ""
             }
            },
            "type": "parcoords"
           }
          ],
          "pie": [
           {
            "automargin": true,
            "type": "pie"
           }
          ],
          "scatter": [
           {
            "fillpattern": {
             "fillmode": "overlay",
             "size": 10,
             "solidity": 0.2
            },
            "type": "scatter"
           }
          ],
          "scatter3d": [
           {
            "line": {
             "colorbar": {
              "outlinewidth": 0,
              "ticks": ""
             }
            },
            "marker": {
             "colorbar": {
              "outlinewidth": 0,
              "ticks": ""
             }
            },
            "type": "scatter3d"
           }
          ],
          "scattercarpet": [
           {
            "marker": {
             "colorbar": {
              "outlinewidth": 0,
              "ticks": ""
             }
            },
            "type": "scattercarpet"
           }
          ],
          "scattergeo": [
           {
            "marker": {
             "colorbar": {
              "outlinewidth": 0,
              "ticks": ""
             }
            },
            "type": "scattergeo"
           }
          ],
          "scattergl": [
           {
            "marker": {
             "colorbar": {
              "outlinewidth": 0,
              "ticks": ""
             }
            },
            "type": "scattergl"
           }
          ],
          "scattermapbox": [
           {
            "marker": {
             "colorbar": {
              "outlinewidth": 0,
              "ticks": ""
             }
            },
            "type": "scattermapbox"
           }
          ],
          "scatterpolar": [
           {
            "marker": {
             "colorbar": {
              "outlinewidth": 0,
              "ticks": ""
             }
            },
            "type": "scatterpolar"
           }
          ],
          "scatterpolargl": [
           {
            "marker": {
             "colorbar": {
              "outlinewidth": 0,
              "ticks": ""
             }
            },
            "type": "scatterpolargl"
           }
          ],
          "scatterternary": [
           {
            "marker": {
             "colorbar": {
              "outlinewidth": 0,
              "ticks": ""
             }
            },
            "type": "scatterternary"
           }
          ],
          "surface": [
           {
            "colorbar": {
             "outlinewidth": 0,
             "ticks": ""
            },
            "colorscale": [
             [
              0,
              "#0d0887"
             ],
             [
              0.1111111111111111,
              "#46039f"
             ],
             [
              0.2222222222222222,
              "#7201a8"
             ],
             [
              0.3333333333333333,
              "#9c179e"
             ],
             [
              0.4444444444444444,
              "#bd3786"
             ],
             [
              0.5555555555555556,
              "#d8576b"
             ],
             [
              0.6666666666666666,
              "#ed7953"
             ],
             [
              0.7777777777777778,
              "#fb9f3a"
             ],
             [
              0.8888888888888888,
              "#fdca26"
             ],
             [
              1,
              "#f0f921"
             ]
            ],
            "type": "surface"
           }
          ],
          "table": [
           {
            "cells": {
             "fill": {
              "color": "#EBF0F8"
             },
             "line": {
              "color": "white"
             }
            },
            "header": {
             "fill": {
              "color": "#C8D4E3"
             },
             "line": {
              "color": "white"
             }
            },
            "type": "table"
           }
          ]
         },
         "layout": {
          "annotationdefaults": {
           "arrowcolor": "#2a3f5f",
           "arrowhead": 0,
           "arrowwidth": 1
          },
          "autotypenumbers": "strict",
          "coloraxis": {
           "colorbar": {
            "outlinewidth": 0,
            "ticks": ""
           }
          },
          "colorscale": {
           "diverging": [
            [
             0,
             "#8e0152"
            ],
            [
             0.1,
             "#c51b7d"
            ],
            [
             0.2,
             "#de77ae"
            ],
            [
             0.3,
             "#f1b6da"
            ],
            [
             0.4,
             "#fde0ef"
            ],
            [
             0.5,
             "#f7f7f7"
            ],
            [
             0.6,
             "#e6f5d0"
            ],
            [
             0.7,
             "#b8e186"
            ],
            [
             0.8,
             "#7fbc41"
            ],
            [
             0.9,
             "#4d9221"
            ],
            [
             1,
             "#276419"
            ]
           ],
           "sequential": [
            [
             0,
             "#0d0887"
            ],
            [
             0.1111111111111111,
             "#46039f"
            ],
            [
             0.2222222222222222,
             "#7201a8"
            ],
            [
             0.3333333333333333,
             "#9c179e"
            ],
            [
             0.4444444444444444,
             "#bd3786"
            ],
            [
             0.5555555555555556,
             "#d8576b"
            ],
            [
             0.6666666666666666,
             "#ed7953"
            ],
            [
             0.7777777777777778,
             "#fb9f3a"
            ],
            [
             0.8888888888888888,
             "#fdca26"
            ],
            [
             1,
             "#f0f921"
            ]
           ],
           "sequentialminus": [
            [
             0,
             "#0d0887"
            ],
            [
             0.1111111111111111,
             "#46039f"
            ],
            [
             0.2222222222222222,
             "#7201a8"
            ],
            [
             0.3333333333333333,
             "#9c179e"
            ],
            [
             0.4444444444444444,
             "#bd3786"
            ],
            [
             0.5555555555555556,
             "#d8576b"
            ],
            [
             0.6666666666666666,
             "#ed7953"
            ],
            [
             0.7777777777777778,
             "#fb9f3a"
            ],
            [
             0.8888888888888888,
             "#fdca26"
            ],
            [
             1,
             "#f0f921"
            ]
           ]
          },
          "colorway": [
           "#636efa",
           "#EF553B",
           "#00cc96",
           "#ab63fa",
           "#FFA15A",
           "#19d3f3",
           "#FF6692",
           "#B6E880",
           "#FF97FF",
           "#FECB52"
          ],
          "font": {
           "color": "#2a3f5f"
          },
          "geo": {
           "bgcolor": "white",
           "lakecolor": "white",
           "landcolor": "#E5ECF6",
           "showlakes": true,
           "showland": true,
           "subunitcolor": "white"
          },
          "hoverlabel": {
           "align": "left"
          },
          "hovermode": "closest",
          "mapbox": {
           "style": "light"
          },
          "paper_bgcolor": "white",
          "plot_bgcolor": "#E5ECF6",
          "polar": {
           "angularaxis": {
            "gridcolor": "white",
            "linecolor": "white",
            "ticks": ""
           },
           "bgcolor": "#E5ECF6",
           "radialaxis": {
            "gridcolor": "white",
            "linecolor": "white",
            "ticks": ""
           }
          },
          "scene": {
           "xaxis": {
            "backgroundcolor": "#E5ECF6",
            "gridcolor": "white",
            "gridwidth": 2,
            "linecolor": "white",
            "showbackground": true,
            "ticks": "",
            "zerolinecolor": "white"
           },
           "yaxis": {
            "backgroundcolor": "#E5ECF6",
            "gridcolor": "white",
            "gridwidth": 2,
            "linecolor": "white",
            "showbackground": true,
            "ticks": "",
            "zerolinecolor": "white"
           },
           "zaxis": {
            "backgroundcolor": "#E5ECF6",
            "gridcolor": "white",
            "gridwidth": 2,
            "linecolor": "white",
            "showbackground": true,
            "ticks": "",
            "zerolinecolor": "white"
           }
          },
          "shapedefaults": {
           "line": {
            "color": "#2a3f5f"
           }
          },
          "ternary": {
           "aaxis": {
            "gridcolor": "white",
            "linecolor": "white",
            "ticks": ""
           },
           "baxis": {
            "gridcolor": "white",
            "linecolor": "white",
            "ticks": ""
           },
           "bgcolor": "#E5ECF6",
           "caxis": {
            "gridcolor": "white",
            "linecolor": "white",
            "ticks": ""
           }
          },
          "title": {
           "x": 0.05
          },
          "xaxis": {
           "automargin": true,
           "gridcolor": "white",
           "linecolor": "white",
           "ticks": "",
           "title": {
            "standoff": 15
           },
           "zerolinecolor": "white",
           "zerolinewidth": 2
          },
          "yaxis": {
           "automargin": true,
           "gridcolor": "white",
           "linecolor": "white",
           "ticks": "",
           "title": {
            "standoff": 15
           },
           "zerolinecolor": "white",
           "zerolinewidth": 2
          }
         }
        },
        "title": {
         "text": "Lookback Days-3: PNL percentage comparison"
        },
        "xaxis": {
         "anchor": "y",
         "domain": [
          0,
          0.45
         ],
         "title": {
          "text": "Sector Name"
         }
        },
        "xaxis2": {
         "anchor": "y2",
         "domain": [
          0.55,
          1
         ]
        },
        "yaxis": {
         "anchor": "x",
         "domain": [
          0,
          1
         ],
         "title": {
          "text": "PnL ($)"
         }
        },
        "yaxis2": {
         "anchor": "x2",
         "domain": [
          0,
          1
         ],
         "matches": "y",
         "showticklabels": false
        }
       }
      },
      "text/html": [
       "<div>                            <div id=\"a9fa0475-0d17-4249-95e7-aae9852c0dd1\" class=\"plotly-graph-div\" style=\"height:525px; width:100%;\"></div>            <script type=\"text/javascript\">                require([\"plotly\"], function(Plotly) {                    window.PLOTLYENV=window.PLOTLYENV || {};                                    if (document.getElementById(\"a9fa0475-0d17-4249-95e7-aae9852c0dd1\")) {                    Plotly.newPlot(                        \"a9fa0475-0d17-4249-95e7-aae9852c0dd1\",                        [{\"marker\":{\"color\":[\"green\",\"red\",\"wheat\",\"powderblue\",\"salmon\",\"brown\",\"pink\",\"darkblue\",\"sienna\",\"lightgreen\",\"lightskyblue\"]},\"x\":[\"Communication Services\",\"Consumer Discretionary\",\"Consumer Staples\",\"Energy\",\"Financials\",\"Health Care\",\"Industrials\",\"Information Technology\",\"Materials\",\"Real Estate\",\"Utilities\"],\"y\":[17.204489640445683,11.426304342929651,10.133011077419242,0.11177800319832823,10.325220110502617,9.761155893910681,9.169543652520304,9.438487751569264,11.328689272355525,1.1236164461511198,6.171430544473142],\"type\":\"bar\",\"xaxis\":\"x\",\"yaxis\":\"y\",\"texttemplate\":\"%{y:.2f}\"},{\"marker\":{\"color\":[\"green\",\"red\",\"wheat\",\"powderblue\",\"salmon\",\"brown\",\"pink\",\"darkblue\",\"sienna\",\"lightgreen\",\"lightskyblue\"]},\"x\":[\"Communication Services\",\"Consumer Discretionary\",\"Consumer Staples\",\"Energy\",\"Financials\",\"Health Care\",\"Industrials\",\"Information Technology\",\"Materials\",\"Real Estate\",\"Utilities\"],\"y\":[2.9985420722448466,-1.6310563147337143,-2.3030657553746714,-3.3348667529207683,0.9469008970144419,-0.18096067059531928,0.21769651181483185,2.9210760450106106,-5.368882072156244,-5.7250922119586996,-4.757858231197712],\"type\":\"bar\",\"xaxis\":\"x2\",\"yaxis\":\"y2\",\"texttemplate\":\"%{y:.2f}\"}],                        {\"template\":{\"data\":{\"histogram2dcontour\":[{\"type\":\"histogram2dcontour\",\"colorbar\":{\"outlinewidth\":0,\"ticks\":\"\"},\"colorscale\":[[0.0,\"#0d0887\"],[0.1111111111111111,\"#46039f\"],[0.2222222222222222,\"#7201a8\"],[0.3333333333333333,\"#9c179e\"],[0.4444444444444444,\"#bd3786\"],[0.5555555555555556,\"#d8576b\"],[0.6666666666666666,\"#ed7953\"],[0.7777777777777778,\"#fb9f3a\"],[0.8888888888888888,\"#fdca26\"],[1.0,\"#f0f921\"]]}],\"choropleth\":[{\"type\":\"choropleth\",\"colorbar\":{\"outlinewidth\":0,\"ticks\":\"\"}}],\"histogram2d\":[{\"type\":\"histogram2d\",\"colorbar\":{\"outlinewidth\":0,\"ticks\":\"\"},\"colorscale\":[[0.0,\"#0d0887\"],[0.1111111111111111,\"#46039f\"],[0.2222222222222222,\"#7201a8\"],[0.3333333333333333,\"#9c179e\"],[0.4444444444444444,\"#bd3786\"],[0.5555555555555556,\"#d8576b\"],[0.6666666666666666,\"#ed7953\"],[0.7777777777777778,\"#fb9f3a\"],[0.8888888888888888,\"#fdca26\"],[1.0,\"#f0f921\"]]}],\"heatmap\":[{\"type\":\"heatmap\",\"colorbar\":{\"outlinewidth\":0,\"ticks\":\"\"},\"colorscale\":[[0.0,\"#0d0887\"],[0.1111111111111111,\"#46039f\"],[0.2222222222222222,\"#7201a8\"],[0.3333333333333333,\"#9c179e\"],[0.4444444444444444,\"#bd3786\"],[0.5555555555555556,\"#d8576b\"],[0.6666666666666666,\"#ed7953\"],[0.7777777777777778,\"#fb9f3a\"],[0.8888888888888888,\"#fdca26\"],[1.0,\"#f0f921\"]]}],\"heatmapgl\":[{\"type\":\"heatmapgl\",\"colorbar\":{\"outlinewidth\":0,\"ticks\":\"\"},\"colorscale\":[[0.0,\"#0d0887\"],[0.1111111111111111,\"#46039f\"],[0.2222222222222222,\"#7201a8\"],[0.3333333333333333,\"#9c179e\"],[0.4444444444444444,\"#bd3786\"],[0.5555555555555556,\"#d8576b\"],[0.6666666666666666,\"#ed7953\"],[0.7777777777777778,\"#fb9f3a\"],[0.8888888888888888,\"#fdca26\"],[1.0,\"#f0f921\"]]}],\"contourcarpet\":[{\"type\":\"contourcarpet\",\"colorbar\":{\"outlinewidth\":0,\"ticks\":\"\"}}],\"contour\":[{\"type\":\"contour\",\"colorbar\":{\"outlinewidth\":0,\"ticks\":\"\"},\"colorscale\":[[0.0,\"#0d0887\"],[0.1111111111111111,\"#46039f\"],[0.2222222222222222,\"#7201a8\"],[0.3333333333333333,\"#9c179e\"],[0.4444444444444444,\"#bd3786\"],[0.5555555555555556,\"#d8576b\"],[0.6666666666666666,\"#ed7953\"],[0.7777777777777778,\"#fb9f3a\"],[0.8888888888888888,\"#fdca26\"],[1.0,\"#f0f921\"]]}],\"surface\":[{\"type\":\"surface\",\"colorbar\":{\"outlinewidth\":0,\"ticks\":\"\"},\"colorscale\":[[0.0,\"#0d0887\"],[0.1111111111111111,\"#46039f\"],[0.2222222222222222,\"#7201a8\"],[0.3333333333333333,\"#9c179e\"],[0.4444444444444444,\"#bd3786\"],[0.5555555555555556,\"#d8576b\"],[0.6666666666666666,\"#ed7953\"],[0.7777777777777778,\"#fb9f3a\"],[0.8888888888888888,\"#fdca26\"],[1.0,\"#f0f921\"]]}],\"mesh3d\":[{\"type\":\"mesh3d\",\"colorbar\":{\"outlinewidth\":0,\"ticks\":\"\"}}],\"scatter\":[{\"fillpattern\":{\"fillmode\":\"overlay\",\"size\":10,\"solidity\":0.2},\"type\":\"scatter\"}],\"parcoords\":[{\"type\":\"parcoords\",\"line\":{\"colorbar\":{\"outlinewidth\":0,\"ticks\":\"\"}}}],\"scatterpolargl\":[{\"type\":\"scatterpolargl\",\"marker\":{\"colorbar\":{\"outlinewidth\":0,\"ticks\":\"\"}}}],\"bar\":[{\"error_x\":{\"color\":\"#2a3f5f\"},\"error_y\":{\"color\":\"#2a3f5f\"},\"marker\":{\"line\":{\"color\":\"#E5ECF6\",\"width\":0.5},\"pattern\":{\"fillmode\":\"overlay\",\"size\":10,\"solidity\":0.2}},\"type\":\"bar\"}],\"scattergeo\":[{\"type\":\"scattergeo\",\"marker\":{\"colorbar\":{\"outlinewidth\":0,\"ticks\":\"\"}}}],\"scatterpolar\":[{\"type\":\"scatterpolar\",\"marker\":{\"colorbar\":{\"outlinewidth\":0,\"ticks\":\"\"}}}],\"histogram\":[{\"marker\":{\"pattern\":{\"fillmode\":\"overlay\",\"size\":10,\"solidity\":0.2}},\"type\":\"histogram\"}],\"scattergl\":[{\"type\":\"scattergl\",\"marker\":{\"colorbar\":{\"outlinewidth\":0,\"ticks\":\"\"}}}],\"scatter3d\":[{\"type\":\"scatter3d\",\"line\":{\"colorbar\":{\"outlinewidth\":0,\"ticks\":\"\"}},\"marker\":{\"colorbar\":{\"outlinewidth\":0,\"ticks\":\"\"}}}],\"scattermapbox\":[{\"type\":\"scattermapbox\",\"marker\":{\"colorbar\":{\"outlinewidth\":0,\"ticks\":\"\"}}}],\"scatterternary\":[{\"type\":\"scatterternary\",\"marker\":{\"colorbar\":{\"outlinewidth\":0,\"ticks\":\"\"}}}],\"scattercarpet\":[{\"type\":\"scattercarpet\",\"marker\":{\"colorbar\":{\"outlinewidth\":0,\"ticks\":\"\"}}}],\"carpet\":[{\"aaxis\":{\"endlinecolor\":\"#2a3f5f\",\"gridcolor\":\"white\",\"linecolor\":\"white\",\"minorgridcolor\":\"white\",\"startlinecolor\":\"#2a3f5f\"},\"baxis\":{\"endlinecolor\":\"#2a3f5f\",\"gridcolor\":\"white\",\"linecolor\":\"white\",\"minorgridcolor\":\"white\",\"startlinecolor\":\"#2a3f5f\"},\"type\":\"carpet\"}],\"table\":[{\"cells\":{\"fill\":{\"color\":\"#EBF0F8\"},\"line\":{\"color\":\"white\"}},\"header\":{\"fill\":{\"color\":\"#C8D4E3\"},\"line\":{\"color\":\"white\"}},\"type\":\"table\"}],\"barpolar\":[{\"marker\":{\"line\":{\"color\":\"#E5ECF6\",\"width\":0.5},\"pattern\":{\"fillmode\":\"overlay\",\"size\":10,\"solidity\":0.2}},\"type\":\"barpolar\"}],\"pie\":[{\"automargin\":true,\"type\":\"pie\"}]},\"layout\":{\"autotypenumbers\":\"strict\",\"colorway\":[\"#636efa\",\"#EF553B\",\"#00cc96\",\"#ab63fa\",\"#FFA15A\",\"#19d3f3\",\"#FF6692\",\"#B6E880\",\"#FF97FF\",\"#FECB52\"],\"font\":{\"color\":\"#2a3f5f\"},\"hovermode\":\"closest\",\"hoverlabel\":{\"align\":\"left\"},\"paper_bgcolor\":\"white\",\"plot_bgcolor\":\"#E5ECF6\",\"polar\":{\"bgcolor\":\"#E5ECF6\",\"angularaxis\":{\"gridcolor\":\"white\",\"linecolor\":\"white\",\"ticks\":\"\"},\"radialaxis\":{\"gridcolor\":\"white\",\"linecolor\":\"white\",\"ticks\":\"\"}},\"ternary\":{\"bgcolor\":\"#E5ECF6\",\"aaxis\":{\"gridcolor\":\"white\",\"linecolor\":\"white\",\"ticks\":\"\"},\"baxis\":{\"gridcolor\":\"white\",\"linecolor\":\"white\",\"ticks\":\"\"},\"caxis\":{\"gridcolor\":\"white\",\"linecolor\":\"white\",\"ticks\":\"\"}},\"coloraxis\":{\"colorbar\":{\"outlinewidth\":0,\"ticks\":\"\"}},\"colorscale\":{\"sequential\":[[0.0,\"#0d0887\"],[0.1111111111111111,\"#46039f\"],[0.2222222222222222,\"#7201a8\"],[0.3333333333333333,\"#9c179e\"],[0.4444444444444444,\"#bd3786\"],[0.5555555555555556,\"#d8576b\"],[0.6666666666666666,\"#ed7953\"],[0.7777777777777778,\"#fb9f3a\"],[0.8888888888888888,\"#fdca26\"],[1.0,\"#f0f921\"]],\"sequentialminus\":[[0.0,\"#0d0887\"],[0.1111111111111111,\"#46039f\"],[0.2222222222222222,\"#7201a8\"],[0.3333333333333333,\"#9c179e\"],[0.4444444444444444,\"#bd3786\"],[0.5555555555555556,\"#d8576b\"],[0.6666666666666666,\"#ed7953\"],[0.7777777777777778,\"#fb9f3a\"],[0.8888888888888888,\"#fdca26\"],[1.0,\"#f0f921\"]],\"diverging\":[[0,\"#8e0152\"],[0.1,\"#c51b7d\"],[0.2,\"#de77ae\"],[0.3,\"#f1b6da\"],[0.4,\"#fde0ef\"],[0.5,\"#f7f7f7\"],[0.6,\"#e6f5d0\"],[0.7,\"#b8e186\"],[0.8,\"#7fbc41\"],[0.9,\"#4d9221\"],[1,\"#276419\"]]},\"xaxis\":{\"gridcolor\":\"white\",\"linecolor\":\"white\",\"ticks\":\"\",\"title\":{\"standoff\":15},\"zerolinecolor\":\"white\",\"automargin\":true,\"zerolinewidth\":2},\"yaxis\":{\"gridcolor\":\"white\",\"linecolor\":\"white\",\"ticks\":\"\",\"title\":{\"standoff\":15},\"zerolinecolor\":\"white\",\"automargin\":true,\"zerolinewidth\":2},\"scene\":{\"xaxis\":{\"backgroundcolor\":\"#E5ECF6\",\"gridcolor\":\"white\",\"linecolor\":\"white\",\"showbackground\":true,\"ticks\":\"\",\"zerolinecolor\":\"white\",\"gridwidth\":2},\"yaxis\":{\"backgroundcolor\":\"#E5ECF6\",\"gridcolor\":\"white\",\"linecolor\":\"white\",\"showbackground\":true,\"ticks\":\"\",\"zerolinecolor\":\"white\",\"gridwidth\":2},\"zaxis\":{\"backgroundcolor\":\"#E5ECF6\",\"gridcolor\":\"white\",\"linecolor\":\"white\",\"showbackground\":true,\"ticks\":\"\",\"zerolinecolor\":\"white\",\"gridwidth\":2}},\"shapedefaults\":{\"line\":{\"color\":\"#2a3f5f\"}},\"annotationdefaults\":{\"arrowcolor\":\"#2a3f5f\",\"arrowhead\":0,\"arrowwidth\":1},\"geo\":{\"bgcolor\":\"white\",\"landcolor\":\"#E5ECF6\",\"subunitcolor\":\"white\",\"showland\":true,\"showlakes\":true,\"lakecolor\":\"white\"},\"title\":{\"x\":0.05},\"mapbox\":{\"style\":\"light\"}}},\"xaxis\":{\"anchor\":\"y\",\"domain\":[0.0,0.45],\"title\":{\"text\":\"Sector Name\"}},\"yaxis\":{\"anchor\":\"x\",\"domain\":[0.0,1.0],\"title\":{\"text\":\"PnL ($)\"}},\"xaxis2\":{\"anchor\":\"y2\",\"domain\":[0.55,1.0]},\"yaxis2\":{\"anchor\":\"x2\",\"domain\":[0.0,1.0],\"matches\":\"y\",\"showticklabels\":false},\"annotations\":[{\"font\":{\"size\":16},\"showarrow\":false,\"text\":\"VADER PnL by Sectors with Sentiment Threshold = \\u00b10.01\",\"x\":0.225,\"xanchor\":\"center\",\"xref\":\"paper\",\"y\":1.0,\"yanchor\":\"bottom\",\"yref\":\"paper\"},{\"font\":{\"size\":16},\"showarrow\":false,\"text\":\"L\\u002fH PnL by Sectors\",\"x\":0.775,\"xanchor\":\"center\",\"xref\":\"paper\",\"y\":1.0,\"yanchor\":\"bottom\",\"yref\":\"paper\"}],\"title\":{\"text\":\"Lookback Days-3: PNL percentage comparison\"}},                        {\"responsive\": true}                    ).then(function(){\n",
       "                            \n",
       "var gd = document.getElementById('a9fa0475-0d17-4249-95e7-aae9852c0dd1');\n",
       "var x = new MutationObserver(function (mutations, observer) {{\n",
       "        var display = window.getComputedStyle(gd).display;\n",
       "        if (!display || display === 'none') {{\n",
       "            console.log([gd, 'removed!']);\n",
       "            Plotly.purge(gd);\n",
       "            observer.disconnect();\n",
       "        }}\n",
       "}});\n",
       "\n",
       "// Listen for the removal of the full notebook cells\n",
       "var notebookContainer = gd.closest('#notebook-container');\n",
       "if (notebookContainer) {{\n",
       "    x.observe(notebookContainer, {childList: true});\n",
       "}}\n",
       "\n",
       "// Listen for the clearing of the current output cell\n",
       "var outputEl = gd.closest('.output');\n",
       "if (outputEl) {{\n",
       "    x.observe(outputEl, {childList: true});\n",
       "}}\n",
       "\n",
       "                        })                };                });            </script>        </div>"
      ]
     },
     "metadata": {},
     "output_type": "display_data"
    }
   ],
   "source": [
    "# pctage of pnl \n",
    "import plotly.express as px\n",
    "import plotly.graph_objs as go\n",
    "from plotly.subplots import make_subplots\n",
    "\n",
    "# for i in range(len(summary)):\n",
    "week =3\n",
    "\n",
    "labels = list(df_summary[\"Sector\"])\n",
    "\n",
    "colors = ['green','red','wheat','powderblue','salmon','brown','pink','darkblue','sienna','lightgreen','lightskyblue']\n",
    "fig = make_subplots(rows=1, cols=2, column_widths=[0.5, 0.5],\n",
    "                    subplot_titles=(\"VADER PnL by Sectors with Sentiment Threshold = ±0.01\",\"L/H PnL by Sectors\"),\n",
    "                    vertical_spacing=0.1,\n",
    "                  horizontal_spacing=0.1,\n",
    "                  shared_yaxes='all')\n",
    "fig.add_trace(go.Bar(x = df_summary[\"Sector\"], y=df_summary[\"avgPctVADER\"], marker_color=colors),\n",
    "              row=1, col=1)\n",
    "\n",
    "fig.add_trace(go.Bar(x = df_summary[\"Sector\"], y=df_summary[\"avgPctL_H\"],marker_color=colors),\n",
    "              row=1, col=2)\n",
    "fig.update_traces(texttemplate='%{y:.2f}')\n",
    "fig.update_layout(title=\"Lookback Days-\"+str(week)+': PNL percentage comparison',\n",
    "                   xaxis_title='Sector Name',\n",
    "                   yaxis_title='PnL ($)')\n",
    "fig.show()"
   ]
  },
  {
   "cell_type": "code",
   "execution_count": 79,
   "id": "edd8c6f5",
   "metadata": {},
   "outputs": [
    {
     "data": {
      "application/vnd.plotly.v1+json": {
       "config": {
        "plotlyServerURL": "https://plot.ly"
       },
       "data": [
        {
         "marker": {
          "color": [
           "green",
           "red",
           "wheat",
           "powderblue",
           "salmon",
           "brown",
           "pink",
           "darkblue",
           "sienna",
           "lightgreen",
           "lightskyblue"
          ]
         },
         "texttemplate": "%{y:.2f}",
         "type": "bar",
         "x": [
          "Communication Services",
          "Consumer Discretionary",
          "Consumer Staples",
          "Energy",
          "Financials",
          "Health Care",
          "Industrials",
          "Information Technology",
          "Materials",
          "Real Estate",
          "Utilities"
         ],
         "xaxis": "x",
         "y": [
          619.5898993852228,
          644.4128735799605,
          289.02838858264914,
          29.900948261611298,
          974.4073814168094,
          2348.8733427363422,
          1595.6759413714333,
          1195.1269563674628,
          421.9435639442227,
          0.8035512604767483,
          102.77616770756549
         ],
         "yaxis": "y"
        },
        {
         "marker": {
          "color": [
           "green",
           "red",
           "wheat",
           "powderblue",
           "salmon",
           "brown",
           "pink",
           "darkblue",
           "sienna",
           "lightgreen",
           "lightskyblue"
          ]
         },
         "texttemplate": "%{y:.2f}",
         "type": "bar",
         "x": [
          "Communication Services",
          "Consumer Discretionary",
          "Consumer Staples",
          "Energy",
          "Financials",
          "Health Care",
          "Industrials",
          "Information Technology",
          "Materials",
          "Real Estate",
          "Utilities"
         ],
         "xaxis": "x2",
         "y": [
          146.41497993469238,
          447.98026275634766,
          -16.130012512207053,
          -24.303346633911115,
          203.13827991485596,
          10.56442928314194,
          124.55958843231198,
          773.2339735031129,
          -117.8300514221192,
          -198.26994323730466,
          -82.74139022827151
         ],
         "yaxis": "y2"
        }
       ],
       "layout": {
        "annotations": [
         {
          "font": {
           "size": 16
          },
          "showarrow": false,
          "text": "VADER PnL by Sectors with Sentiment Threshold = ±0.01",
          "x": 0.225,
          "xanchor": "center",
          "xref": "paper",
          "y": 1,
          "yanchor": "bottom",
          "yref": "paper"
         },
         {
          "font": {
           "size": 16
          },
          "showarrow": false,
          "text": "L/H PnL by Sectors",
          "x": 0.775,
          "xanchor": "center",
          "xref": "paper",
          "y": 1,
          "yanchor": "bottom",
          "yref": "paper"
         }
        ],
        "template": {
         "data": {
          "bar": [
           {
            "error_x": {
             "color": "#2a3f5f"
            },
            "error_y": {
             "color": "#2a3f5f"
            },
            "marker": {
             "line": {
              "color": "#E5ECF6",
              "width": 0.5
             },
             "pattern": {
              "fillmode": "overlay",
              "size": 10,
              "solidity": 0.2
             }
            },
            "type": "bar"
           }
          ],
          "barpolar": [
           {
            "marker": {
             "line": {
              "color": "#E5ECF6",
              "width": 0.5
             },
             "pattern": {
              "fillmode": "overlay",
              "size": 10,
              "solidity": 0.2
             }
            },
            "type": "barpolar"
           }
          ],
          "carpet": [
           {
            "aaxis": {
             "endlinecolor": "#2a3f5f",
             "gridcolor": "white",
             "linecolor": "white",
             "minorgridcolor": "white",
             "startlinecolor": "#2a3f5f"
            },
            "baxis": {
             "endlinecolor": "#2a3f5f",
             "gridcolor": "white",
             "linecolor": "white",
             "minorgridcolor": "white",
             "startlinecolor": "#2a3f5f"
            },
            "type": "carpet"
           }
          ],
          "choropleth": [
           {
            "colorbar": {
             "outlinewidth": 0,
             "ticks": ""
            },
            "type": "choropleth"
           }
          ],
          "contour": [
           {
            "colorbar": {
             "outlinewidth": 0,
             "ticks": ""
            },
            "colorscale": [
             [
              0,
              "#0d0887"
             ],
             [
              0.1111111111111111,
              "#46039f"
             ],
             [
              0.2222222222222222,
              "#7201a8"
             ],
             [
              0.3333333333333333,
              "#9c179e"
             ],
             [
              0.4444444444444444,
              "#bd3786"
             ],
             [
              0.5555555555555556,
              "#d8576b"
             ],
             [
              0.6666666666666666,
              "#ed7953"
             ],
             [
              0.7777777777777778,
              "#fb9f3a"
             ],
             [
              0.8888888888888888,
              "#fdca26"
             ],
             [
              1,
              "#f0f921"
             ]
            ],
            "type": "contour"
           }
          ],
          "contourcarpet": [
           {
            "colorbar": {
             "outlinewidth": 0,
             "ticks": ""
            },
            "type": "contourcarpet"
           }
          ],
          "heatmap": [
           {
            "colorbar": {
             "outlinewidth": 0,
             "ticks": ""
            },
            "colorscale": [
             [
              0,
              "#0d0887"
             ],
             [
              0.1111111111111111,
              "#46039f"
             ],
             [
              0.2222222222222222,
              "#7201a8"
             ],
             [
              0.3333333333333333,
              "#9c179e"
             ],
             [
              0.4444444444444444,
              "#bd3786"
             ],
             [
              0.5555555555555556,
              "#d8576b"
             ],
             [
              0.6666666666666666,
              "#ed7953"
             ],
             [
              0.7777777777777778,
              "#fb9f3a"
             ],
             [
              0.8888888888888888,
              "#fdca26"
             ],
             [
              1,
              "#f0f921"
             ]
            ],
            "type": "heatmap"
           }
          ],
          "heatmapgl": [
           {
            "colorbar": {
             "outlinewidth": 0,
             "ticks": ""
            },
            "colorscale": [
             [
              0,
              "#0d0887"
             ],
             [
              0.1111111111111111,
              "#46039f"
             ],
             [
              0.2222222222222222,
              "#7201a8"
             ],
             [
              0.3333333333333333,
              "#9c179e"
             ],
             [
              0.4444444444444444,
              "#bd3786"
             ],
             [
              0.5555555555555556,
              "#d8576b"
             ],
             [
              0.6666666666666666,
              "#ed7953"
             ],
             [
              0.7777777777777778,
              "#fb9f3a"
             ],
             [
              0.8888888888888888,
              "#fdca26"
             ],
             [
              1,
              "#f0f921"
             ]
            ],
            "type": "heatmapgl"
           }
          ],
          "histogram": [
           {
            "marker": {
             "pattern": {
              "fillmode": "overlay",
              "size": 10,
              "solidity": 0.2
             }
            },
            "type": "histogram"
           }
          ],
          "histogram2d": [
           {
            "colorbar": {
             "outlinewidth": 0,
             "ticks": ""
            },
            "colorscale": [
             [
              0,
              "#0d0887"
             ],
             [
              0.1111111111111111,
              "#46039f"
             ],
             [
              0.2222222222222222,
              "#7201a8"
             ],
             [
              0.3333333333333333,
              "#9c179e"
             ],
             [
              0.4444444444444444,
              "#bd3786"
             ],
             [
              0.5555555555555556,
              "#d8576b"
             ],
             [
              0.6666666666666666,
              "#ed7953"
             ],
             [
              0.7777777777777778,
              "#fb9f3a"
             ],
             [
              0.8888888888888888,
              "#fdca26"
             ],
             [
              1,
              "#f0f921"
             ]
            ],
            "type": "histogram2d"
           }
          ],
          "histogram2dcontour": [
           {
            "colorbar": {
             "outlinewidth": 0,
             "ticks": ""
            },
            "colorscale": [
             [
              0,
              "#0d0887"
             ],
             [
              0.1111111111111111,
              "#46039f"
             ],
             [
              0.2222222222222222,
              "#7201a8"
             ],
             [
              0.3333333333333333,
              "#9c179e"
             ],
             [
              0.4444444444444444,
              "#bd3786"
             ],
             [
              0.5555555555555556,
              "#d8576b"
             ],
             [
              0.6666666666666666,
              "#ed7953"
             ],
             [
              0.7777777777777778,
              "#fb9f3a"
             ],
             [
              0.8888888888888888,
              "#fdca26"
             ],
             [
              1,
              "#f0f921"
             ]
            ],
            "type": "histogram2dcontour"
           }
          ],
          "mesh3d": [
           {
            "colorbar": {
             "outlinewidth": 0,
             "ticks": ""
            },
            "type": "mesh3d"
           }
          ],
          "parcoords": [
           {
            "line": {
             "colorbar": {
              "outlinewidth": 0,
              "ticks": ""
             }
            },
            "type": "parcoords"
           }
          ],
          "pie": [
           {
            "automargin": true,
            "type": "pie"
           }
          ],
          "scatter": [
           {
            "fillpattern": {
             "fillmode": "overlay",
             "size": 10,
             "solidity": 0.2
            },
            "type": "scatter"
           }
          ],
          "scatter3d": [
           {
            "line": {
             "colorbar": {
              "outlinewidth": 0,
              "ticks": ""
             }
            },
            "marker": {
             "colorbar": {
              "outlinewidth": 0,
              "ticks": ""
             }
            },
            "type": "scatter3d"
           }
          ],
          "scattercarpet": [
           {
            "marker": {
             "colorbar": {
              "outlinewidth": 0,
              "ticks": ""
             }
            },
            "type": "scattercarpet"
           }
          ],
          "scattergeo": [
           {
            "marker": {
             "colorbar": {
              "outlinewidth": 0,
              "ticks": ""
             }
            },
            "type": "scattergeo"
           }
          ],
          "scattergl": [
           {
            "marker": {
             "colorbar": {
              "outlinewidth": 0,
              "ticks": ""
             }
            },
            "type": "scattergl"
           }
          ],
          "scattermapbox": [
           {
            "marker": {
             "colorbar": {
              "outlinewidth": 0,
              "ticks": ""
             }
            },
            "type": "scattermapbox"
           }
          ],
          "scatterpolar": [
           {
            "marker": {
             "colorbar": {
              "outlinewidth": 0,
              "ticks": ""
             }
            },
            "type": "scatterpolar"
           }
          ],
          "scatterpolargl": [
           {
            "marker": {
             "colorbar": {
              "outlinewidth": 0,
              "ticks": ""
             }
            },
            "type": "scatterpolargl"
           }
          ],
          "scatterternary": [
           {
            "marker": {
             "colorbar": {
              "outlinewidth": 0,
              "ticks": ""
             }
            },
            "type": "scatterternary"
           }
          ],
          "surface": [
           {
            "colorbar": {
             "outlinewidth": 0,
             "ticks": ""
            },
            "colorscale": [
             [
              0,
              "#0d0887"
             ],
             [
              0.1111111111111111,
              "#46039f"
             ],
             [
              0.2222222222222222,
              "#7201a8"
             ],
             [
              0.3333333333333333,
              "#9c179e"
             ],
             [
              0.4444444444444444,
              "#bd3786"
             ],
             [
              0.5555555555555556,
              "#d8576b"
             ],
             [
              0.6666666666666666,
              "#ed7953"
             ],
             [
              0.7777777777777778,
              "#fb9f3a"
             ],
             [
              0.8888888888888888,
              "#fdca26"
             ],
             [
              1,
              "#f0f921"
             ]
            ],
            "type": "surface"
           }
          ],
          "table": [
           {
            "cells": {
             "fill": {
              "color": "#EBF0F8"
             },
             "line": {
              "color": "white"
             }
            },
            "header": {
             "fill": {
              "color": "#C8D4E3"
             },
             "line": {
              "color": "white"
             }
            },
            "type": "table"
           }
          ]
         },
         "layout": {
          "annotationdefaults": {
           "arrowcolor": "#2a3f5f",
           "arrowhead": 0,
           "arrowwidth": 1
          },
          "autotypenumbers": "strict",
          "coloraxis": {
           "colorbar": {
            "outlinewidth": 0,
            "ticks": ""
           }
          },
          "colorscale": {
           "diverging": [
            [
             0,
             "#8e0152"
            ],
            [
             0.1,
             "#c51b7d"
            ],
            [
             0.2,
             "#de77ae"
            ],
            [
             0.3,
             "#f1b6da"
            ],
            [
             0.4,
             "#fde0ef"
            ],
            [
             0.5,
             "#f7f7f7"
            ],
            [
             0.6,
             "#e6f5d0"
            ],
            [
             0.7,
             "#b8e186"
            ],
            [
             0.8,
             "#7fbc41"
            ],
            [
             0.9,
             "#4d9221"
            ],
            [
             1,
             "#276419"
            ]
           ],
           "sequential": [
            [
             0,
             "#0d0887"
            ],
            [
             0.1111111111111111,
             "#46039f"
            ],
            [
             0.2222222222222222,
             "#7201a8"
            ],
            [
             0.3333333333333333,
             "#9c179e"
            ],
            [
             0.4444444444444444,
             "#bd3786"
            ],
            [
             0.5555555555555556,
             "#d8576b"
            ],
            [
             0.6666666666666666,
             "#ed7953"
            ],
            [
             0.7777777777777778,
             "#fb9f3a"
            ],
            [
             0.8888888888888888,
             "#fdca26"
            ],
            [
             1,
             "#f0f921"
            ]
           ],
           "sequentialminus": [
            [
             0,
             "#0d0887"
            ],
            [
             0.1111111111111111,
             "#46039f"
            ],
            [
             0.2222222222222222,
             "#7201a8"
            ],
            [
             0.3333333333333333,
             "#9c179e"
            ],
            [
             0.4444444444444444,
             "#bd3786"
            ],
            [
             0.5555555555555556,
             "#d8576b"
            ],
            [
             0.6666666666666666,
             "#ed7953"
            ],
            [
             0.7777777777777778,
             "#fb9f3a"
            ],
            [
             0.8888888888888888,
             "#fdca26"
            ],
            [
             1,
             "#f0f921"
            ]
           ]
          },
          "colorway": [
           "#636efa",
           "#EF553B",
           "#00cc96",
           "#ab63fa",
           "#FFA15A",
           "#19d3f3",
           "#FF6692",
           "#B6E880",
           "#FF97FF",
           "#FECB52"
          ],
          "font": {
           "color": "#2a3f5f"
          },
          "geo": {
           "bgcolor": "white",
           "lakecolor": "white",
           "landcolor": "#E5ECF6",
           "showlakes": true,
           "showland": true,
           "subunitcolor": "white"
          },
          "hoverlabel": {
           "align": "left"
          },
          "hovermode": "closest",
          "mapbox": {
           "style": "light"
          },
          "paper_bgcolor": "white",
          "plot_bgcolor": "#E5ECF6",
          "polar": {
           "angularaxis": {
            "gridcolor": "white",
            "linecolor": "white",
            "ticks": ""
           },
           "bgcolor": "#E5ECF6",
           "radialaxis": {
            "gridcolor": "white",
            "linecolor": "white",
            "ticks": ""
           }
          },
          "scene": {
           "xaxis": {
            "backgroundcolor": "#E5ECF6",
            "gridcolor": "white",
            "gridwidth": 2,
            "linecolor": "white",
            "showbackground": true,
            "ticks": "",
            "zerolinecolor": "white"
           },
           "yaxis": {
            "backgroundcolor": "#E5ECF6",
            "gridcolor": "white",
            "gridwidth": 2,
            "linecolor": "white",
            "showbackground": true,
            "ticks": "",
            "zerolinecolor": "white"
           },
           "zaxis": {
            "backgroundcolor": "#E5ECF6",
            "gridcolor": "white",
            "gridwidth": 2,
            "linecolor": "white",
            "showbackground": true,
            "ticks": "",
            "zerolinecolor": "white"
           }
          },
          "shapedefaults": {
           "line": {
            "color": "#2a3f5f"
           }
          },
          "ternary": {
           "aaxis": {
            "gridcolor": "white",
            "linecolor": "white",
            "ticks": ""
           },
           "baxis": {
            "gridcolor": "white",
            "linecolor": "white",
            "ticks": ""
           },
           "bgcolor": "#E5ECF6",
           "caxis": {
            "gridcolor": "white",
            "linecolor": "white",
            "ticks": ""
           }
          },
          "title": {
           "x": 0.05
          },
          "xaxis": {
           "automargin": true,
           "gridcolor": "white",
           "linecolor": "white",
           "ticks": "",
           "title": {
            "standoff": 15
           },
           "zerolinecolor": "white",
           "zerolinewidth": 2
          },
          "yaxis": {
           "automargin": true,
           "gridcolor": "white",
           "linecolor": "white",
           "ticks": "",
           "title": {
            "standoff": 15
           },
           "zerolinecolor": "white",
           "zerolinewidth": 2
          }
         }
        },
        "title": {
         "text": "Lookback Days-3: PNL comparison"
        },
        "xaxis": {
         "anchor": "y",
         "domain": [
          0,
          0.45
         ],
         "title": {
          "text": "Sector Name"
         }
        },
        "xaxis2": {
         "anchor": "y2",
         "domain": [
          0.55,
          1
         ]
        },
        "yaxis": {
         "anchor": "x",
         "domain": [
          0,
          1
         ],
         "title": {
          "text": "PnL ($)"
         }
        },
        "yaxis2": {
         "anchor": "x2",
         "domain": [
          0,
          1
         ],
         "matches": "y",
         "showticklabels": false
        }
       }
      },
      "text/html": [
       "<div>                            <div id=\"7235d087-33d8-4daa-ad93-dbc929315deb\" class=\"plotly-graph-div\" style=\"height:525px; width:100%;\"></div>            <script type=\"text/javascript\">                require([\"plotly\"], function(Plotly) {                    window.PLOTLYENV=window.PLOTLYENV || {};                                    if (document.getElementById(\"7235d087-33d8-4daa-ad93-dbc929315deb\")) {                    Plotly.newPlot(                        \"7235d087-33d8-4daa-ad93-dbc929315deb\",                        [{\"marker\":{\"color\":[\"green\",\"red\",\"wheat\",\"powderblue\",\"salmon\",\"brown\",\"pink\",\"darkblue\",\"sienna\",\"lightgreen\",\"lightskyblue\"]},\"x\":[\"Communication Services\",\"Consumer Discretionary\",\"Consumer Staples\",\"Energy\",\"Financials\",\"Health Care\",\"Industrials\",\"Information Technology\",\"Materials\",\"Real Estate\",\"Utilities\"],\"y\":[619.5898993852228,644.4128735799605,289.02838858264914,29.900948261611298,974.4073814168094,2348.8733427363422,1595.6759413714333,1195.1269563674628,421.9435639442227,0.8035512604767483,102.77616770756549],\"type\":\"bar\",\"xaxis\":\"x\",\"yaxis\":\"y\",\"texttemplate\":\"%{y:.2f}\"},{\"marker\":{\"color\":[\"green\",\"red\",\"wheat\",\"powderblue\",\"salmon\",\"brown\",\"pink\",\"darkblue\",\"sienna\",\"lightgreen\",\"lightskyblue\"]},\"x\":[\"Communication Services\",\"Consumer Discretionary\",\"Consumer Staples\",\"Energy\",\"Financials\",\"Health Care\",\"Industrials\",\"Information Technology\",\"Materials\",\"Real Estate\",\"Utilities\"],\"y\":[146.41497993469238,447.98026275634766,-16.130012512207053,-24.303346633911115,203.13827991485596,10.56442928314194,124.55958843231198,773.2339735031129,-117.8300514221192,-198.26994323730466,-82.74139022827151],\"type\":\"bar\",\"xaxis\":\"x2\",\"yaxis\":\"y2\",\"texttemplate\":\"%{y:.2f}\"}],                        {\"template\":{\"data\":{\"histogram2dcontour\":[{\"type\":\"histogram2dcontour\",\"colorbar\":{\"outlinewidth\":0,\"ticks\":\"\"},\"colorscale\":[[0.0,\"#0d0887\"],[0.1111111111111111,\"#46039f\"],[0.2222222222222222,\"#7201a8\"],[0.3333333333333333,\"#9c179e\"],[0.4444444444444444,\"#bd3786\"],[0.5555555555555556,\"#d8576b\"],[0.6666666666666666,\"#ed7953\"],[0.7777777777777778,\"#fb9f3a\"],[0.8888888888888888,\"#fdca26\"],[1.0,\"#f0f921\"]]}],\"choropleth\":[{\"type\":\"choropleth\",\"colorbar\":{\"outlinewidth\":0,\"ticks\":\"\"}}],\"histogram2d\":[{\"type\":\"histogram2d\",\"colorbar\":{\"outlinewidth\":0,\"ticks\":\"\"},\"colorscale\":[[0.0,\"#0d0887\"],[0.1111111111111111,\"#46039f\"],[0.2222222222222222,\"#7201a8\"],[0.3333333333333333,\"#9c179e\"],[0.4444444444444444,\"#bd3786\"],[0.5555555555555556,\"#d8576b\"],[0.6666666666666666,\"#ed7953\"],[0.7777777777777778,\"#fb9f3a\"],[0.8888888888888888,\"#fdca26\"],[1.0,\"#f0f921\"]]}],\"heatmap\":[{\"type\":\"heatmap\",\"colorbar\":{\"outlinewidth\":0,\"ticks\":\"\"},\"colorscale\":[[0.0,\"#0d0887\"],[0.1111111111111111,\"#46039f\"],[0.2222222222222222,\"#7201a8\"],[0.3333333333333333,\"#9c179e\"],[0.4444444444444444,\"#bd3786\"],[0.5555555555555556,\"#d8576b\"],[0.6666666666666666,\"#ed7953\"],[0.7777777777777778,\"#fb9f3a\"],[0.8888888888888888,\"#fdca26\"],[1.0,\"#f0f921\"]]}],\"heatmapgl\":[{\"type\":\"heatmapgl\",\"colorbar\":{\"outlinewidth\":0,\"ticks\":\"\"},\"colorscale\":[[0.0,\"#0d0887\"],[0.1111111111111111,\"#46039f\"],[0.2222222222222222,\"#7201a8\"],[0.3333333333333333,\"#9c179e\"],[0.4444444444444444,\"#bd3786\"],[0.5555555555555556,\"#d8576b\"],[0.6666666666666666,\"#ed7953\"],[0.7777777777777778,\"#fb9f3a\"],[0.8888888888888888,\"#fdca26\"],[1.0,\"#f0f921\"]]}],\"contourcarpet\":[{\"type\":\"contourcarpet\",\"colorbar\":{\"outlinewidth\":0,\"ticks\":\"\"}}],\"contour\":[{\"type\":\"contour\",\"colorbar\":{\"outlinewidth\":0,\"ticks\":\"\"},\"colorscale\":[[0.0,\"#0d0887\"],[0.1111111111111111,\"#46039f\"],[0.2222222222222222,\"#7201a8\"],[0.3333333333333333,\"#9c179e\"],[0.4444444444444444,\"#bd3786\"],[0.5555555555555556,\"#d8576b\"],[0.6666666666666666,\"#ed7953\"],[0.7777777777777778,\"#fb9f3a\"],[0.8888888888888888,\"#fdca26\"],[1.0,\"#f0f921\"]]}],\"surface\":[{\"type\":\"surface\",\"colorbar\":{\"outlinewidth\":0,\"ticks\":\"\"},\"colorscale\":[[0.0,\"#0d0887\"],[0.1111111111111111,\"#46039f\"],[0.2222222222222222,\"#7201a8\"],[0.3333333333333333,\"#9c179e\"],[0.4444444444444444,\"#bd3786\"],[0.5555555555555556,\"#d8576b\"],[0.6666666666666666,\"#ed7953\"],[0.7777777777777778,\"#fb9f3a\"],[0.8888888888888888,\"#fdca26\"],[1.0,\"#f0f921\"]]}],\"mesh3d\":[{\"type\":\"mesh3d\",\"colorbar\":{\"outlinewidth\":0,\"ticks\":\"\"}}],\"scatter\":[{\"fillpattern\":{\"fillmode\":\"overlay\",\"size\":10,\"solidity\":0.2},\"type\":\"scatter\"}],\"parcoords\":[{\"type\":\"parcoords\",\"line\":{\"colorbar\":{\"outlinewidth\":0,\"ticks\":\"\"}}}],\"scatterpolargl\":[{\"type\":\"scatterpolargl\",\"marker\":{\"colorbar\":{\"outlinewidth\":0,\"ticks\":\"\"}}}],\"bar\":[{\"error_x\":{\"color\":\"#2a3f5f\"},\"error_y\":{\"color\":\"#2a3f5f\"},\"marker\":{\"line\":{\"color\":\"#E5ECF6\",\"width\":0.5},\"pattern\":{\"fillmode\":\"overlay\",\"size\":10,\"solidity\":0.2}},\"type\":\"bar\"}],\"scattergeo\":[{\"type\":\"scattergeo\",\"marker\":{\"colorbar\":{\"outlinewidth\":0,\"ticks\":\"\"}}}],\"scatterpolar\":[{\"type\":\"scatterpolar\",\"marker\":{\"colorbar\":{\"outlinewidth\":0,\"ticks\":\"\"}}}],\"histogram\":[{\"marker\":{\"pattern\":{\"fillmode\":\"overlay\",\"size\":10,\"solidity\":0.2}},\"type\":\"histogram\"}],\"scattergl\":[{\"type\":\"scattergl\",\"marker\":{\"colorbar\":{\"outlinewidth\":0,\"ticks\":\"\"}}}],\"scatter3d\":[{\"type\":\"scatter3d\",\"line\":{\"colorbar\":{\"outlinewidth\":0,\"ticks\":\"\"}},\"marker\":{\"colorbar\":{\"outlinewidth\":0,\"ticks\":\"\"}}}],\"scattermapbox\":[{\"type\":\"scattermapbox\",\"marker\":{\"colorbar\":{\"outlinewidth\":0,\"ticks\":\"\"}}}],\"scatterternary\":[{\"type\":\"scatterternary\",\"marker\":{\"colorbar\":{\"outlinewidth\":0,\"ticks\":\"\"}}}],\"scattercarpet\":[{\"type\":\"scattercarpet\",\"marker\":{\"colorbar\":{\"outlinewidth\":0,\"ticks\":\"\"}}}],\"carpet\":[{\"aaxis\":{\"endlinecolor\":\"#2a3f5f\",\"gridcolor\":\"white\",\"linecolor\":\"white\",\"minorgridcolor\":\"white\",\"startlinecolor\":\"#2a3f5f\"},\"baxis\":{\"endlinecolor\":\"#2a3f5f\",\"gridcolor\":\"white\",\"linecolor\":\"white\",\"minorgridcolor\":\"white\",\"startlinecolor\":\"#2a3f5f\"},\"type\":\"carpet\"}],\"table\":[{\"cells\":{\"fill\":{\"color\":\"#EBF0F8\"},\"line\":{\"color\":\"white\"}},\"header\":{\"fill\":{\"color\":\"#C8D4E3\"},\"line\":{\"color\":\"white\"}},\"type\":\"table\"}],\"barpolar\":[{\"marker\":{\"line\":{\"color\":\"#E5ECF6\",\"width\":0.5},\"pattern\":{\"fillmode\":\"overlay\",\"size\":10,\"solidity\":0.2}},\"type\":\"barpolar\"}],\"pie\":[{\"automargin\":true,\"type\":\"pie\"}]},\"layout\":{\"autotypenumbers\":\"strict\",\"colorway\":[\"#636efa\",\"#EF553B\",\"#00cc96\",\"#ab63fa\",\"#FFA15A\",\"#19d3f3\",\"#FF6692\",\"#B6E880\",\"#FF97FF\",\"#FECB52\"],\"font\":{\"color\":\"#2a3f5f\"},\"hovermode\":\"closest\",\"hoverlabel\":{\"align\":\"left\"},\"paper_bgcolor\":\"white\",\"plot_bgcolor\":\"#E5ECF6\",\"polar\":{\"bgcolor\":\"#E5ECF6\",\"angularaxis\":{\"gridcolor\":\"white\",\"linecolor\":\"white\",\"ticks\":\"\"},\"radialaxis\":{\"gridcolor\":\"white\",\"linecolor\":\"white\",\"ticks\":\"\"}},\"ternary\":{\"bgcolor\":\"#E5ECF6\",\"aaxis\":{\"gridcolor\":\"white\",\"linecolor\":\"white\",\"ticks\":\"\"},\"baxis\":{\"gridcolor\":\"white\",\"linecolor\":\"white\",\"ticks\":\"\"},\"caxis\":{\"gridcolor\":\"white\",\"linecolor\":\"white\",\"ticks\":\"\"}},\"coloraxis\":{\"colorbar\":{\"outlinewidth\":0,\"ticks\":\"\"}},\"colorscale\":{\"sequential\":[[0.0,\"#0d0887\"],[0.1111111111111111,\"#46039f\"],[0.2222222222222222,\"#7201a8\"],[0.3333333333333333,\"#9c179e\"],[0.4444444444444444,\"#bd3786\"],[0.5555555555555556,\"#d8576b\"],[0.6666666666666666,\"#ed7953\"],[0.7777777777777778,\"#fb9f3a\"],[0.8888888888888888,\"#fdca26\"],[1.0,\"#f0f921\"]],\"sequentialminus\":[[0.0,\"#0d0887\"],[0.1111111111111111,\"#46039f\"],[0.2222222222222222,\"#7201a8\"],[0.3333333333333333,\"#9c179e\"],[0.4444444444444444,\"#bd3786\"],[0.5555555555555556,\"#d8576b\"],[0.6666666666666666,\"#ed7953\"],[0.7777777777777778,\"#fb9f3a\"],[0.8888888888888888,\"#fdca26\"],[1.0,\"#f0f921\"]],\"diverging\":[[0,\"#8e0152\"],[0.1,\"#c51b7d\"],[0.2,\"#de77ae\"],[0.3,\"#f1b6da\"],[0.4,\"#fde0ef\"],[0.5,\"#f7f7f7\"],[0.6,\"#e6f5d0\"],[0.7,\"#b8e186\"],[0.8,\"#7fbc41\"],[0.9,\"#4d9221\"],[1,\"#276419\"]]},\"xaxis\":{\"gridcolor\":\"white\",\"linecolor\":\"white\",\"ticks\":\"\",\"title\":{\"standoff\":15},\"zerolinecolor\":\"white\",\"automargin\":true,\"zerolinewidth\":2},\"yaxis\":{\"gridcolor\":\"white\",\"linecolor\":\"white\",\"ticks\":\"\",\"title\":{\"standoff\":15},\"zerolinecolor\":\"white\",\"automargin\":true,\"zerolinewidth\":2},\"scene\":{\"xaxis\":{\"backgroundcolor\":\"#E5ECF6\",\"gridcolor\":\"white\",\"linecolor\":\"white\",\"showbackground\":true,\"ticks\":\"\",\"zerolinecolor\":\"white\",\"gridwidth\":2},\"yaxis\":{\"backgroundcolor\":\"#E5ECF6\",\"gridcolor\":\"white\",\"linecolor\":\"white\",\"showbackground\":true,\"ticks\":\"\",\"zerolinecolor\":\"white\",\"gridwidth\":2},\"zaxis\":{\"backgroundcolor\":\"#E5ECF6\",\"gridcolor\":\"white\",\"linecolor\":\"white\",\"showbackground\":true,\"ticks\":\"\",\"zerolinecolor\":\"white\",\"gridwidth\":2}},\"shapedefaults\":{\"line\":{\"color\":\"#2a3f5f\"}},\"annotationdefaults\":{\"arrowcolor\":\"#2a3f5f\",\"arrowhead\":0,\"arrowwidth\":1},\"geo\":{\"bgcolor\":\"white\",\"landcolor\":\"#E5ECF6\",\"subunitcolor\":\"white\",\"showland\":true,\"showlakes\":true,\"lakecolor\":\"white\"},\"title\":{\"x\":0.05},\"mapbox\":{\"style\":\"light\"}}},\"xaxis\":{\"anchor\":\"y\",\"domain\":[0.0,0.45],\"title\":{\"text\":\"Sector Name\"}},\"yaxis\":{\"anchor\":\"x\",\"domain\":[0.0,1.0],\"title\":{\"text\":\"PnL ($)\"}},\"xaxis2\":{\"anchor\":\"y2\",\"domain\":[0.55,1.0]},\"yaxis2\":{\"anchor\":\"x2\",\"domain\":[0.0,1.0],\"matches\":\"y\",\"showticklabels\":false},\"annotations\":[{\"font\":{\"size\":16},\"showarrow\":false,\"text\":\"VADER PnL by Sectors with Sentiment Threshold = \\u00b10.01\",\"x\":0.225,\"xanchor\":\"center\",\"xref\":\"paper\",\"y\":1.0,\"yanchor\":\"bottom\",\"yref\":\"paper\"},{\"font\":{\"size\":16},\"showarrow\":false,\"text\":\"L\\u002fH PnL by Sectors\",\"x\":0.775,\"xanchor\":\"center\",\"xref\":\"paper\",\"y\":1.0,\"yanchor\":\"bottom\",\"yref\":\"paper\"}],\"title\":{\"text\":\"Lookback Days-3: PNL comparison\"}},                        {\"responsive\": true}                    ).then(function(){\n",
       "                            \n",
       "var gd = document.getElementById('7235d087-33d8-4daa-ad93-dbc929315deb');\n",
       "var x = new MutationObserver(function (mutations, observer) {{\n",
       "        var display = window.getComputedStyle(gd).display;\n",
       "        if (!display || display === 'none') {{\n",
       "            console.log([gd, 'removed!']);\n",
       "            Plotly.purge(gd);\n",
       "            observer.disconnect();\n",
       "        }}\n",
       "}});\n",
       "\n",
       "// Listen for the removal of the full notebook cells\n",
       "var notebookContainer = gd.closest('#notebook-container');\n",
       "if (notebookContainer) {{\n",
       "    x.observe(notebookContainer, {childList: true});\n",
       "}}\n",
       "\n",
       "// Listen for the clearing of the current output cell\n",
       "var outputEl = gd.closest('.output');\n",
       "if (outputEl) {{\n",
       "    x.observe(outputEl, {childList: true});\n",
       "}}\n",
       "\n",
       "                        })                };                });            </script>        </div>"
      ]
     },
     "metadata": {},
     "output_type": "display_data"
    }
   ],
   "source": [
    "# pnl \n",
    "\n",
    "\n",
    "\n",
    "labels = list(df_summary[\"Sector\"])\n",
    "colors = ['green','red','wheat','powderblue','salmon','brown','pink','darkblue','sienna','lightgreen','lightskyblue']\n",
    "fig = make_subplots(rows=1, cols=2, column_widths=[0.5, 0.5],\n",
    "                    subplot_titles=(\"VADER PnL by Sectors with Sentiment Threshold = ±0.01\",\"L/H PnL by Sectors\"),\n",
    "                    vertical_spacing=0.1,\n",
    "                  horizontal_spacing=0.1,\n",
    "                  shared_yaxes='all')\n",
    "fig.add_trace(go.Bar(x = df_summary[\"Sector\"], y=df_summary[\"sumVADER\"], marker_color=colors),\n",
    "              row=1, col=1)\n",
    "\n",
    "fig.add_trace(go.Bar(x = df_summary[\"Sector\"], y=df_summary[\"sumL_H\"],marker_color=colors),\n",
    "              row=1, col=2)\n",
    "fig.update_traces(texttemplate='%{y:.2f}')\n",
    "fig.update_layout(title=\"Lookback Days-\"+str(week)+': PNL comparison',\n",
    "                   xaxis_title='Sector Name',\n",
    "                   yaxis_title='PnL ($)')\n",
    "fig.show()"
   ]
  },
  {
   "cell_type": "code",
   "execution_count": 80,
   "id": "881ca596",
   "metadata": {},
   "outputs": [
    {
     "data": {
      "application/vnd.plotly.v1+json": {
       "config": {
        "plotlyServerURL": "https://plot.ly"
       },
       "data": [
        {
         "coloraxis": "coloraxis",
         "hovertemplate": "x: %{x}<br>y: %{y}<br>color: %{z}<extra></extra>",
         "name": "0",
         "texttemplate": "%{z}",
         "type": "heatmap",
         "x": [
          "avgPctVADER",
          "avgPctL_H",
          "sumVADER",
          "sumL_H",
          "sumTwts",
          "CountStocks"
         ],
         "xaxis": "x",
         "y": [
          "avgPctVADER",
          "avgPctL_H",
          "sumVADER",
          "sumL_H",
          "sumTwts",
          "CountStocks"
         ],
         "yaxis": "y",
         "z": [
          [
           1,
           0.6121527815194618,
           0.37976868087271526,
           0.36745861011622943,
           0.405662010111223,
           0.19037848287015224
          ],
          [
           0.6121527815194618,
           1,
           0.5994230463538524,
           0.7190148094518781,
           0.5918771765123475,
           0.5411824593309733
          ],
          [
           0.37976868087271526,
           0.5994230463538524,
           1,
           0.3465451708202194,
           0.5230628939079124,
           0.7890315220562879
          ],
          [
           0.36745861011622943,
           0.7190148094518781,
           0.3465451708202194,
           1,
           0.8293736532317135,
           0.5225889457763729
          ],
          [
           0.405662010111223,
           0.5918771765123475,
           0.5230628939079124,
           0.8293736532317135,
           1,
           0.6763231311404555
          ],
          [
           0.19037848287015224,
           0.5411824593309733,
           0.7890315220562879,
           0.5225889457763729,
           0.6763231311404555,
           1
          ]
         ]
        }
       ],
       "layout": {
        "coloraxis": {
         "colorscale": [
          [
           0,
           "#0d0887"
          ],
          [
           0.1111111111111111,
           "#46039f"
          ],
          [
           0.2222222222222222,
           "#7201a8"
          ],
          [
           0.3333333333333333,
           "#9c179e"
          ],
          [
           0.4444444444444444,
           "#bd3786"
          ],
          [
           0.5555555555555556,
           "#d8576b"
          ],
          [
           0.6666666666666666,
           "#ed7953"
          ],
          [
           0.7777777777777778,
           "#fb9f3a"
          ],
          [
           0.8888888888888888,
           "#fdca26"
          ],
          [
           1,
           "#f0f921"
          ]
         ]
        },
        "margin": {
         "t": 60
        },
        "template": {
         "data": {
          "bar": [
           {
            "error_x": {
             "color": "#2a3f5f"
            },
            "error_y": {
             "color": "#2a3f5f"
            },
            "marker": {
             "line": {
              "color": "#E5ECF6",
              "width": 0.5
             },
             "pattern": {
              "fillmode": "overlay",
              "size": 10,
              "solidity": 0.2
             }
            },
            "type": "bar"
           }
          ],
          "barpolar": [
           {
            "marker": {
             "line": {
              "color": "#E5ECF6",
              "width": 0.5
             },
             "pattern": {
              "fillmode": "overlay",
              "size": 10,
              "solidity": 0.2
             }
            },
            "type": "barpolar"
           }
          ],
          "carpet": [
           {
            "aaxis": {
             "endlinecolor": "#2a3f5f",
             "gridcolor": "white",
             "linecolor": "white",
             "minorgridcolor": "white",
             "startlinecolor": "#2a3f5f"
            },
            "baxis": {
             "endlinecolor": "#2a3f5f",
             "gridcolor": "white",
             "linecolor": "white",
             "minorgridcolor": "white",
             "startlinecolor": "#2a3f5f"
            },
            "type": "carpet"
           }
          ],
          "choropleth": [
           {
            "colorbar": {
             "outlinewidth": 0,
             "ticks": ""
            },
            "type": "choropleth"
           }
          ],
          "contour": [
           {
            "colorbar": {
             "outlinewidth": 0,
             "ticks": ""
            },
            "colorscale": [
             [
              0,
              "#0d0887"
             ],
             [
              0.1111111111111111,
              "#46039f"
             ],
             [
              0.2222222222222222,
              "#7201a8"
             ],
             [
              0.3333333333333333,
              "#9c179e"
             ],
             [
              0.4444444444444444,
              "#bd3786"
             ],
             [
              0.5555555555555556,
              "#d8576b"
             ],
             [
              0.6666666666666666,
              "#ed7953"
             ],
             [
              0.7777777777777778,
              "#fb9f3a"
             ],
             [
              0.8888888888888888,
              "#fdca26"
             ],
             [
              1,
              "#f0f921"
             ]
            ],
            "type": "contour"
           }
          ],
          "contourcarpet": [
           {
            "colorbar": {
             "outlinewidth": 0,
             "ticks": ""
            },
            "type": "contourcarpet"
           }
          ],
          "heatmap": [
           {
            "colorbar": {
             "outlinewidth": 0,
             "ticks": ""
            },
            "colorscale": [
             [
              0,
              "#0d0887"
             ],
             [
              0.1111111111111111,
              "#46039f"
             ],
             [
              0.2222222222222222,
              "#7201a8"
             ],
             [
              0.3333333333333333,
              "#9c179e"
             ],
             [
              0.4444444444444444,
              "#bd3786"
             ],
             [
              0.5555555555555556,
              "#d8576b"
             ],
             [
              0.6666666666666666,
              "#ed7953"
             ],
             [
              0.7777777777777778,
              "#fb9f3a"
             ],
             [
              0.8888888888888888,
              "#fdca26"
             ],
             [
              1,
              "#f0f921"
             ]
            ],
            "type": "heatmap"
           }
          ],
          "heatmapgl": [
           {
            "colorbar": {
             "outlinewidth": 0,
             "ticks": ""
            },
            "colorscale": [
             [
              0,
              "#0d0887"
             ],
             [
              0.1111111111111111,
              "#46039f"
             ],
             [
              0.2222222222222222,
              "#7201a8"
             ],
             [
              0.3333333333333333,
              "#9c179e"
             ],
             [
              0.4444444444444444,
              "#bd3786"
             ],
             [
              0.5555555555555556,
              "#d8576b"
             ],
             [
              0.6666666666666666,
              "#ed7953"
             ],
             [
              0.7777777777777778,
              "#fb9f3a"
             ],
             [
              0.8888888888888888,
              "#fdca26"
             ],
             [
              1,
              "#f0f921"
             ]
            ],
            "type": "heatmapgl"
           }
          ],
          "histogram": [
           {
            "marker": {
             "pattern": {
              "fillmode": "overlay",
              "size": 10,
              "solidity": 0.2
             }
            },
            "type": "histogram"
           }
          ],
          "histogram2d": [
           {
            "colorbar": {
             "outlinewidth": 0,
             "ticks": ""
            },
            "colorscale": [
             [
              0,
              "#0d0887"
             ],
             [
              0.1111111111111111,
              "#46039f"
             ],
             [
              0.2222222222222222,
              "#7201a8"
             ],
             [
              0.3333333333333333,
              "#9c179e"
             ],
             [
              0.4444444444444444,
              "#bd3786"
             ],
             [
              0.5555555555555556,
              "#d8576b"
             ],
             [
              0.6666666666666666,
              "#ed7953"
             ],
             [
              0.7777777777777778,
              "#fb9f3a"
             ],
             [
              0.8888888888888888,
              "#fdca26"
             ],
             [
              1,
              "#f0f921"
             ]
            ],
            "type": "histogram2d"
           }
          ],
          "histogram2dcontour": [
           {
            "colorbar": {
             "outlinewidth": 0,
             "ticks": ""
            },
            "colorscale": [
             [
              0,
              "#0d0887"
             ],
             [
              0.1111111111111111,
              "#46039f"
             ],
             [
              0.2222222222222222,
              "#7201a8"
             ],
             [
              0.3333333333333333,
              "#9c179e"
             ],
             [
              0.4444444444444444,
              "#bd3786"
             ],
             [
              0.5555555555555556,
              "#d8576b"
             ],
             [
              0.6666666666666666,
              "#ed7953"
             ],
             [
              0.7777777777777778,
              "#fb9f3a"
             ],
             [
              0.8888888888888888,
              "#fdca26"
             ],
             [
              1,
              "#f0f921"
             ]
            ],
            "type": "histogram2dcontour"
           }
          ],
          "mesh3d": [
           {
            "colorbar": {
             "outlinewidth": 0,
             "ticks": ""
            },
            "type": "mesh3d"
           }
          ],
          "parcoords": [
           {
            "line": {
             "colorbar": {
              "outlinewidth": 0,
              "ticks": ""
             }
            },
            "type": "parcoords"
           }
          ],
          "pie": [
           {
            "automargin": true,
            "type": "pie"
           }
          ],
          "scatter": [
           {
            "fillpattern": {
             "fillmode": "overlay",
             "size": 10,
             "solidity": 0.2
            },
            "type": "scatter"
           }
          ],
          "scatter3d": [
           {
            "line": {
             "colorbar": {
              "outlinewidth": 0,
              "ticks": ""
             }
            },
            "marker": {
             "colorbar": {
              "outlinewidth": 0,
              "ticks": ""
             }
            },
            "type": "scatter3d"
           }
          ],
          "scattercarpet": [
           {
            "marker": {
             "colorbar": {
              "outlinewidth": 0,
              "ticks": ""
             }
            },
            "type": "scattercarpet"
           }
          ],
          "scattergeo": [
           {
            "marker": {
             "colorbar": {
              "outlinewidth": 0,
              "ticks": ""
             }
            },
            "type": "scattergeo"
           }
          ],
          "scattergl": [
           {
            "marker": {
             "colorbar": {
              "outlinewidth": 0,
              "ticks": ""
             }
            },
            "type": "scattergl"
           }
          ],
          "scattermapbox": [
           {
            "marker": {
             "colorbar": {
              "outlinewidth": 0,
              "ticks": ""
             }
            },
            "type": "scattermapbox"
           }
          ],
          "scatterpolar": [
           {
            "marker": {
             "colorbar": {
              "outlinewidth": 0,
              "ticks": ""
             }
            },
            "type": "scatterpolar"
           }
          ],
          "scatterpolargl": [
           {
            "marker": {
             "colorbar": {
              "outlinewidth": 0,
              "ticks": ""
             }
            },
            "type": "scatterpolargl"
           }
          ],
          "scatterternary": [
           {
            "marker": {
             "colorbar": {
              "outlinewidth": 0,
              "ticks": ""
             }
            },
            "type": "scatterternary"
           }
          ],
          "surface": [
           {
            "colorbar": {
             "outlinewidth": 0,
             "ticks": ""
            },
            "colorscale": [
             [
              0,
              "#0d0887"
             ],
             [
              0.1111111111111111,
              "#46039f"
             ],
             [
              0.2222222222222222,
              "#7201a8"
             ],
             [
              0.3333333333333333,
              "#9c179e"
             ],
             [
              0.4444444444444444,
              "#bd3786"
             ],
             [
              0.5555555555555556,
              "#d8576b"
             ],
             [
              0.6666666666666666,
              "#ed7953"
             ],
             [
              0.7777777777777778,
              "#fb9f3a"
             ],
             [
              0.8888888888888888,
              "#fdca26"
             ],
             [
              1,
              "#f0f921"
             ]
            ],
            "type": "surface"
           }
          ],
          "table": [
           {
            "cells": {
             "fill": {
              "color": "#EBF0F8"
             },
             "line": {
              "color": "white"
             }
            },
            "header": {
             "fill": {
              "color": "#C8D4E3"
             },
             "line": {
              "color": "white"
             }
            },
            "type": "table"
           }
          ]
         },
         "layout": {
          "annotationdefaults": {
           "arrowcolor": "#2a3f5f",
           "arrowhead": 0,
           "arrowwidth": 1
          },
          "autotypenumbers": "strict",
          "coloraxis": {
           "colorbar": {
            "outlinewidth": 0,
            "ticks": ""
           }
          },
          "colorscale": {
           "diverging": [
            [
             0,
             "#8e0152"
            ],
            [
             0.1,
             "#c51b7d"
            ],
            [
             0.2,
             "#de77ae"
            ],
            [
             0.3,
             "#f1b6da"
            ],
            [
             0.4,
             "#fde0ef"
            ],
            [
             0.5,
             "#f7f7f7"
            ],
            [
             0.6,
             "#e6f5d0"
            ],
            [
             0.7,
             "#b8e186"
            ],
            [
             0.8,
             "#7fbc41"
            ],
            [
             0.9,
             "#4d9221"
            ],
            [
             1,
             "#276419"
            ]
           ],
           "sequential": [
            [
             0,
             "#0d0887"
            ],
            [
             0.1111111111111111,
             "#46039f"
            ],
            [
             0.2222222222222222,
             "#7201a8"
            ],
            [
             0.3333333333333333,
             "#9c179e"
            ],
            [
             0.4444444444444444,
             "#bd3786"
            ],
            [
             0.5555555555555556,
             "#d8576b"
            ],
            [
             0.6666666666666666,
             "#ed7953"
            ],
            [
             0.7777777777777778,
             "#fb9f3a"
            ],
            [
             0.8888888888888888,
             "#fdca26"
            ],
            [
             1,
             "#f0f921"
            ]
           ],
           "sequentialminus": [
            [
             0,
             "#0d0887"
            ],
            [
             0.1111111111111111,
             "#46039f"
            ],
            [
             0.2222222222222222,
             "#7201a8"
            ],
            [
             0.3333333333333333,
             "#9c179e"
            ],
            [
             0.4444444444444444,
             "#bd3786"
            ],
            [
             0.5555555555555556,
             "#d8576b"
            ],
            [
             0.6666666666666666,
             "#ed7953"
            ],
            [
             0.7777777777777778,
             "#fb9f3a"
            ],
            [
             0.8888888888888888,
             "#fdca26"
            ],
            [
             1,
             "#f0f921"
            ]
           ]
          },
          "colorway": [
           "#636efa",
           "#EF553B",
           "#00cc96",
           "#ab63fa",
           "#FFA15A",
           "#19d3f3",
           "#FF6692",
           "#B6E880",
           "#FF97FF",
           "#FECB52"
          ],
          "font": {
           "color": "#2a3f5f"
          },
          "geo": {
           "bgcolor": "white",
           "lakecolor": "white",
           "landcolor": "#E5ECF6",
           "showlakes": true,
           "showland": true,
           "subunitcolor": "white"
          },
          "hoverlabel": {
           "align": "left"
          },
          "hovermode": "closest",
          "mapbox": {
           "style": "light"
          },
          "paper_bgcolor": "white",
          "plot_bgcolor": "#E5ECF6",
          "polar": {
           "angularaxis": {
            "gridcolor": "white",
            "linecolor": "white",
            "ticks": ""
           },
           "bgcolor": "#E5ECF6",
           "radialaxis": {
            "gridcolor": "white",
            "linecolor": "white",
            "ticks": ""
           }
          },
          "scene": {
           "xaxis": {
            "backgroundcolor": "#E5ECF6",
            "gridcolor": "white",
            "gridwidth": 2,
            "linecolor": "white",
            "showbackground": true,
            "ticks": "",
            "zerolinecolor": "white"
           },
           "yaxis": {
            "backgroundcolor": "#E5ECF6",
            "gridcolor": "white",
            "gridwidth": 2,
            "linecolor": "white",
            "showbackground": true,
            "ticks": "",
            "zerolinecolor": "white"
           },
           "zaxis": {
            "backgroundcolor": "#E5ECF6",
            "gridcolor": "white",
            "gridwidth": 2,
            "linecolor": "white",
            "showbackground": true,
            "ticks": "",
            "zerolinecolor": "white"
           }
          },
          "shapedefaults": {
           "line": {
            "color": "#2a3f5f"
           }
          },
          "ternary": {
           "aaxis": {
            "gridcolor": "white",
            "linecolor": "white",
            "ticks": ""
           },
           "baxis": {
            "gridcolor": "white",
            "linecolor": "white",
            "ticks": ""
           },
           "bgcolor": "#E5ECF6",
           "caxis": {
            "gridcolor": "white",
            "linecolor": "white",
            "ticks": ""
           }
          },
          "title": {
           "x": 0.05
          },
          "xaxis": {
           "automargin": true,
           "gridcolor": "white",
           "linecolor": "white",
           "ticks": "",
           "title": {
            "standoff": 15
           },
           "zerolinecolor": "white",
           "zerolinewidth": 2
          },
          "yaxis": {
           "automargin": true,
           "gridcolor": "white",
           "linecolor": "white",
           "ticks": "",
           "title": {
            "standoff": 15
           },
           "zerolinecolor": "white",
           "zerolinewidth": 2
          }
         }
        },
        "title": {
         "text": "Lookback days-3: All tickers PNL each factor in-between correlation"
        },
        "xaxis": {
         "anchor": "y",
         "domain": [
          0,
          1
         ],
         "nticks": 36
        },
        "yaxis": {
         "anchor": "x",
         "autorange": "reversed",
         "domain": [
          0,
          1
         ]
        }
       }
      },
      "text/html": [
       "<div>                            <div id=\"bf78c2fc-7cd2-421f-8e9a-0cec2c783242\" class=\"plotly-graph-div\" style=\"height:525px; width:100%;\"></div>            <script type=\"text/javascript\">                require([\"plotly\"], function(Plotly) {                    window.PLOTLYENV=window.PLOTLYENV || {};                                    if (document.getElementById(\"bf78c2fc-7cd2-421f-8e9a-0cec2c783242\")) {                    Plotly.newPlot(                        \"bf78c2fc-7cd2-421f-8e9a-0cec2c783242\",                        [{\"coloraxis\":\"coloraxis\",\"name\":\"0\",\"texttemplate\":\"%{z}\",\"x\":[\"avgPctVADER\",\"avgPctL_H\",\"sumVADER\",\"sumL_H\",\"sumTwts\",\"CountStocks\"],\"y\":[\"avgPctVADER\",\"avgPctL_H\",\"sumVADER\",\"sumL_H\",\"sumTwts\",\"CountStocks\"],\"z\":[[1.0,0.6121527815194618,0.37976868087271526,0.36745861011622943,0.405662010111223,0.19037848287015224],[0.6121527815194618,1.0,0.5994230463538524,0.7190148094518781,0.5918771765123475,0.5411824593309733],[0.37976868087271526,0.5994230463538524,1.0,0.3465451708202194,0.5230628939079124,0.7890315220562879],[0.36745861011622943,0.7190148094518781,0.3465451708202194,1.0,0.8293736532317135,0.5225889457763729],[0.405662010111223,0.5918771765123475,0.5230628939079124,0.8293736532317135,1.0,0.6763231311404555],[0.19037848287015224,0.5411824593309733,0.7890315220562879,0.5225889457763729,0.6763231311404555,1.0]],\"type\":\"heatmap\",\"xaxis\":\"x\",\"yaxis\":\"y\",\"hovertemplate\":\"x: %{x}\\u003cbr\\u003ey: %{y}\\u003cbr\\u003ecolor: %{z}\\u003cextra\\u003e\\u003c\\u002fextra\\u003e\"}],                        {\"template\":{\"data\":{\"histogram2dcontour\":[{\"type\":\"histogram2dcontour\",\"colorbar\":{\"outlinewidth\":0,\"ticks\":\"\"},\"colorscale\":[[0.0,\"#0d0887\"],[0.1111111111111111,\"#46039f\"],[0.2222222222222222,\"#7201a8\"],[0.3333333333333333,\"#9c179e\"],[0.4444444444444444,\"#bd3786\"],[0.5555555555555556,\"#d8576b\"],[0.6666666666666666,\"#ed7953\"],[0.7777777777777778,\"#fb9f3a\"],[0.8888888888888888,\"#fdca26\"],[1.0,\"#f0f921\"]]}],\"choropleth\":[{\"type\":\"choropleth\",\"colorbar\":{\"outlinewidth\":0,\"ticks\":\"\"}}],\"histogram2d\":[{\"type\":\"histogram2d\",\"colorbar\":{\"outlinewidth\":0,\"ticks\":\"\"},\"colorscale\":[[0.0,\"#0d0887\"],[0.1111111111111111,\"#46039f\"],[0.2222222222222222,\"#7201a8\"],[0.3333333333333333,\"#9c179e\"],[0.4444444444444444,\"#bd3786\"],[0.5555555555555556,\"#d8576b\"],[0.6666666666666666,\"#ed7953\"],[0.7777777777777778,\"#fb9f3a\"],[0.8888888888888888,\"#fdca26\"],[1.0,\"#f0f921\"]]}],\"heatmap\":[{\"type\":\"heatmap\",\"colorbar\":{\"outlinewidth\":0,\"ticks\":\"\"},\"colorscale\":[[0.0,\"#0d0887\"],[0.1111111111111111,\"#46039f\"],[0.2222222222222222,\"#7201a8\"],[0.3333333333333333,\"#9c179e\"],[0.4444444444444444,\"#bd3786\"],[0.5555555555555556,\"#d8576b\"],[0.6666666666666666,\"#ed7953\"],[0.7777777777777778,\"#fb9f3a\"],[0.8888888888888888,\"#fdca26\"],[1.0,\"#f0f921\"]]}],\"heatmapgl\":[{\"type\":\"heatmapgl\",\"colorbar\":{\"outlinewidth\":0,\"ticks\":\"\"},\"colorscale\":[[0.0,\"#0d0887\"],[0.1111111111111111,\"#46039f\"],[0.2222222222222222,\"#7201a8\"],[0.3333333333333333,\"#9c179e\"],[0.4444444444444444,\"#bd3786\"],[0.5555555555555556,\"#d8576b\"],[0.6666666666666666,\"#ed7953\"],[0.7777777777777778,\"#fb9f3a\"],[0.8888888888888888,\"#fdca26\"],[1.0,\"#f0f921\"]]}],\"contourcarpet\":[{\"type\":\"contourcarpet\",\"colorbar\":{\"outlinewidth\":0,\"ticks\":\"\"}}],\"contour\":[{\"type\":\"contour\",\"colorbar\":{\"outlinewidth\":0,\"ticks\":\"\"},\"colorscale\":[[0.0,\"#0d0887\"],[0.1111111111111111,\"#46039f\"],[0.2222222222222222,\"#7201a8\"],[0.3333333333333333,\"#9c179e\"],[0.4444444444444444,\"#bd3786\"],[0.5555555555555556,\"#d8576b\"],[0.6666666666666666,\"#ed7953\"],[0.7777777777777778,\"#fb9f3a\"],[0.8888888888888888,\"#fdca26\"],[1.0,\"#f0f921\"]]}],\"surface\":[{\"type\":\"surface\",\"colorbar\":{\"outlinewidth\":0,\"ticks\":\"\"},\"colorscale\":[[0.0,\"#0d0887\"],[0.1111111111111111,\"#46039f\"],[0.2222222222222222,\"#7201a8\"],[0.3333333333333333,\"#9c179e\"],[0.4444444444444444,\"#bd3786\"],[0.5555555555555556,\"#d8576b\"],[0.6666666666666666,\"#ed7953\"],[0.7777777777777778,\"#fb9f3a\"],[0.8888888888888888,\"#fdca26\"],[1.0,\"#f0f921\"]]}],\"mesh3d\":[{\"type\":\"mesh3d\",\"colorbar\":{\"outlinewidth\":0,\"ticks\":\"\"}}],\"scatter\":[{\"fillpattern\":{\"fillmode\":\"overlay\",\"size\":10,\"solidity\":0.2},\"type\":\"scatter\"}],\"parcoords\":[{\"type\":\"parcoords\",\"line\":{\"colorbar\":{\"outlinewidth\":0,\"ticks\":\"\"}}}],\"scatterpolargl\":[{\"type\":\"scatterpolargl\",\"marker\":{\"colorbar\":{\"outlinewidth\":0,\"ticks\":\"\"}}}],\"bar\":[{\"error_x\":{\"color\":\"#2a3f5f\"},\"error_y\":{\"color\":\"#2a3f5f\"},\"marker\":{\"line\":{\"color\":\"#E5ECF6\",\"width\":0.5},\"pattern\":{\"fillmode\":\"overlay\",\"size\":10,\"solidity\":0.2}},\"type\":\"bar\"}],\"scattergeo\":[{\"type\":\"scattergeo\",\"marker\":{\"colorbar\":{\"outlinewidth\":0,\"ticks\":\"\"}}}],\"scatterpolar\":[{\"type\":\"scatterpolar\",\"marker\":{\"colorbar\":{\"outlinewidth\":0,\"ticks\":\"\"}}}],\"histogram\":[{\"marker\":{\"pattern\":{\"fillmode\":\"overlay\",\"size\":10,\"solidity\":0.2}},\"type\":\"histogram\"}],\"scattergl\":[{\"type\":\"scattergl\",\"marker\":{\"colorbar\":{\"outlinewidth\":0,\"ticks\":\"\"}}}],\"scatter3d\":[{\"type\":\"scatter3d\",\"line\":{\"colorbar\":{\"outlinewidth\":0,\"ticks\":\"\"}},\"marker\":{\"colorbar\":{\"outlinewidth\":0,\"ticks\":\"\"}}}],\"scattermapbox\":[{\"type\":\"scattermapbox\",\"marker\":{\"colorbar\":{\"outlinewidth\":0,\"ticks\":\"\"}}}],\"scatterternary\":[{\"type\":\"scatterternary\",\"marker\":{\"colorbar\":{\"outlinewidth\":0,\"ticks\":\"\"}}}],\"scattercarpet\":[{\"type\":\"scattercarpet\",\"marker\":{\"colorbar\":{\"outlinewidth\":0,\"ticks\":\"\"}}}],\"carpet\":[{\"aaxis\":{\"endlinecolor\":\"#2a3f5f\",\"gridcolor\":\"white\",\"linecolor\":\"white\",\"minorgridcolor\":\"white\",\"startlinecolor\":\"#2a3f5f\"},\"baxis\":{\"endlinecolor\":\"#2a3f5f\",\"gridcolor\":\"white\",\"linecolor\":\"white\",\"minorgridcolor\":\"white\",\"startlinecolor\":\"#2a3f5f\"},\"type\":\"carpet\"}],\"table\":[{\"cells\":{\"fill\":{\"color\":\"#EBF0F8\"},\"line\":{\"color\":\"white\"}},\"header\":{\"fill\":{\"color\":\"#C8D4E3\"},\"line\":{\"color\":\"white\"}},\"type\":\"table\"}],\"barpolar\":[{\"marker\":{\"line\":{\"color\":\"#E5ECF6\",\"width\":0.5},\"pattern\":{\"fillmode\":\"overlay\",\"size\":10,\"solidity\":0.2}},\"type\":\"barpolar\"}],\"pie\":[{\"automargin\":true,\"type\":\"pie\"}]},\"layout\":{\"autotypenumbers\":\"strict\",\"colorway\":[\"#636efa\",\"#EF553B\",\"#00cc96\",\"#ab63fa\",\"#FFA15A\",\"#19d3f3\",\"#FF6692\",\"#B6E880\",\"#FF97FF\",\"#FECB52\"],\"font\":{\"color\":\"#2a3f5f\"},\"hovermode\":\"closest\",\"hoverlabel\":{\"align\":\"left\"},\"paper_bgcolor\":\"white\",\"plot_bgcolor\":\"#E5ECF6\",\"polar\":{\"bgcolor\":\"#E5ECF6\",\"angularaxis\":{\"gridcolor\":\"white\",\"linecolor\":\"white\",\"ticks\":\"\"},\"radialaxis\":{\"gridcolor\":\"white\",\"linecolor\":\"white\",\"ticks\":\"\"}},\"ternary\":{\"bgcolor\":\"#E5ECF6\",\"aaxis\":{\"gridcolor\":\"white\",\"linecolor\":\"white\",\"ticks\":\"\"},\"baxis\":{\"gridcolor\":\"white\",\"linecolor\":\"white\",\"ticks\":\"\"},\"caxis\":{\"gridcolor\":\"white\",\"linecolor\":\"white\",\"ticks\":\"\"}},\"coloraxis\":{\"colorbar\":{\"outlinewidth\":0,\"ticks\":\"\"}},\"colorscale\":{\"sequential\":[[0.0,\"#0d0887\"],[0.1111111111111111,\"#46039f\"],[0.2222222222222222,\"#7201a8\"],[0.3333333333333333,\"#9c179e\"],[0.4444444444444444,\"#bd3786\"],[0.5555555555555556,\"#d8576b\"],[0.6666666666666666,\"#ed7953\"],[0.7777777777777778,\"#fb9f3a\"],[0.8888888888888888,\"#fdca26\"],[1.0,\"#f0f921\"]],\"sequentialminus\":[[0.0,\"#0d0887\"],[0.1111111111111111,\"#46039f\"],[0.2222222222222222,\"#7201a8\"],[0.3333333333333333,\"#9c179e\"],[0.4444444444444444,\"#bd3786\"],[0.5555555555555556,\"#d8576b\"],[0.6666666666666666,\"#ed7953\"],[0.7777777777777778,\"#fb9f3a\"],[0.8888888888888888,\"#fdca26\"],[1.0,\"#f0f921\"]],\"diverging\":[[0,\"#8e0152\"],[0.1,\"#c51b7d\"],[0.2,\"#de77ae\"],[0.3,\"#f1b6da\"],[0.4,\"#fde0ef\"],[0.5,\"#f7f7f7\"],[0.6,\"#e6f5d0\"],[0.7,\"#b8e186\"],[0.8,\"#7fbc41\"],[0.9,\"#4d9221\"],[1,\"#276419\"]]},\"xaxis\":{\"gridcolor\":\"white\",\"linecolor\":\"white\",\"ticks\":\"\",\"title\":{\"standoff\":15},\"zerolinecolor\":\"white\",\"automargin\":true,\"zerolinewidth\":2},\"yaxis\":{\"gridcolor\":\"white\",\"linecolor\":\"white\",\"ticks\":\"\",\"title\":{\"standoff\":15},\"zerolinecolor\":\"white\",\"automargin\":true,\"zerolinewidth\":2},\"scene\":{\"xaxis\":{\"backgroundcolor\":\"#E5ECF6\",\"gridcolor\":\"white\",\"linecolor\":\"white\",\"showbackground\":true,\"ticks\":\"\",\"zerolinecolor\":\"white\",\"gridwidth\":2},\"yaxis\":{\"backgroundcolor\":\"#E5ECF6\",\"gridcolor\":\"white\",\"linecolor\":\"white\",\"showbackground\":true,\"ticks\":\"\",\"zerolinecolor\":\"white\",\"gridwidth\":2},\"zaxis\":{\"backgroundcolor\":\"#E5ECF6\",\"gridcolor\":\"white\",\"linecolor\":\"white\",\"showbackground\":true,\"ticks\":\"\",\"zerolinecolor\":\"white\",\"gridwidth\":2}},\"shapedefaults\":{\"line\":{\"color\":\"#2a3f5f\"}},\"annotationdefaults\":{\"arrowcolor\":\"#2a3f5f\",\"arrowhead\":0,\"arrowwidth\":1},\"geo\":{\"bgcolor\":\"white\",\"landcolor\":\"#E5ECF6\",\"subunitcolor\":\"white\",\"showland\":true,\"showlakes\":true,\"lakecolor\":\"white\"},\"title\":{\"x\":0.05},\"mapbox\":{\"style\":\"light\"}}},\"xaxis\":{\"anchor\":\"y\",\"domain\":[0.0,1.0],\"nticks\":36},\"yaxis\":{\"anchor\":\"x\",\"domain\":[0.0,1.0],\"autorange\":\"reversed\"},\"coloraxis\":{\"colorscale\":[[0.0,\"#0d0887\"],[0.1111111111111111,\"#46039f\"],[0.2222222222222222,\"#7201a8\"],[0.3333333333333333,\"#9c179e\"],[0.4444444444444444,\"#bd3786\"],[0.5555555555555556,\"#d8576b\"],[0.6666666666666666,\"#ed7953\"],[0.7777777777777778,\"#fb9f3a\"],[0.8888888888888888,\"#fdca26\"],[1.0,\"#f0f921\"]]},\"margin\":{\"t\":60},\"title\":{\"text\":\"Lookback days-3: All tickers PNL each factor in-between correlation\"}},                        {\"responsive\": true}                    ).then(function(){\n",
       "                            \n",
       "var gd = document.getElementById('bf78c2fc-7cd2-421f-8e9a-0cec2c783242');\n",
       "var x = new MutationObserver(function (mutations, observer) {{\n",
       "        var display = window.getComputedStyle(gd).display;\n",
       "        if (!display || display === 'none') {{\n",
       "            console.log([gd, 'removed!']);\n",
       "            Plotly.purge(gd);\n",
       "            observer.disconnect();\n",
       "        }}\n",
       "}});\n",
       "\n",
       "// Listen for the removal of the full notebook cells\n",
       "var notebookContainer = gd.closest('#notebook-container');\n",
       "if (notebookContainer) {{\n",
       "    x.observe(notebookContainer, {childList: true});\n",
       "}}\n",
       "\n",
       "// Listen for the clearing of the current output cell\n",
       "var outputEl = gd.closest('.output');\n",
       "if (outputEl) {{\n",
       "    x.observe(outputEl, {childList: true});\n",
       "}}\n",
       "\n",
       "                        })                };                });            </script>        </div>"
      ]
     },
     "metadata": {},
     "output_type": "display_data"
    }
   ],
   "source": [
    "fig = px.imshow(df_summary[['avgPctVADER','avgPctL_H','sumVADER','sumL_H','sumTwts','CountStocks']].corr(), text_auto=True, aspect=\"auto\")\n",
    "fig.update_layout(title=\"Lookback days-\"+str(week)+': All tickers PNL each factor in-between correlation', xaxis_nticks=36)\n",
    "fig.show()"
   ]
  },
  {
   "cell_type": "code",
   "execution_count": 119,
   "id": "97f4bdbf",
   "metadata": {},
   "outputs": [
    {
     "data": {
      "text/plain": [
       "{'neg': 0.0, 'neu': 0.94, 'pos': 0.06, 'compound': 0.3818}"
      ]
     },
     "execution_count": 119,
     "metadata": {},
     "output_type": "execute_result"
    }
   ],
   "source": [
    "text = \"$A Agilent Technologies current stock price $130\\\\n\\\\nLow of $130.01 \\\\nP/E  (price-to-earnings ratio) 31.09 \\\\nAnnuel EPS grow past 5 years 33%\\\\nEPS Q/Q (quarterly earnings growth) 31%\\\\n\\\\nClosed yesterday at $133 - needs to pull back to $113 to close that gap. LT Puts? https://t.co/QJZBNU7kbW'  \"\n",
    "\n",
    "\n",
    "\n",
    "sentiment_analyzer_scores(text)"
   ]
  },
  {
   "cell_type": "code",
   "execution_count": 120,
   "id": "09eac8fb",
   "metadata": {},
   "outputs": [
    {
     "data": {
      "text/plain": [
       "{'neg': 0.046, 'neu': 0.897, 'pos': 0.057, 'compound': 0.128}"
      ]
     },
     "execution_count": 120,
     "metadata": {},
     "output_type": "execute_result"
    }
   ],
   "source": [
    "text1 = \"$A Agilent Technologies current stock price $130 Low of $130.01 P/E (price-to-earnings ratio) 31.09 Annuel EPS grow past 5 years 33%\\\\nEPS Q/Q (quarterly earnings growth) 31% Closed yesterday at $133 - needs to pull back to $113 to close that gap. LT Puts?\"\n",
    "\n",
    "sentiment_analyzer_scores(text1)"
   ]
  },
  {
   "cell_type": "code",
   "execution_count": 121,
   "id": "93ceb705",
   "metadata": {},
   "outputs": [
    {
     "data": {
      "text/plain": [
       "{'neg': 0.046, 'neu': 0.897, 'pos': 0.057, 'compound': 0.128}"
      ]
     },
     "execution_count": 121,
     "metadata": {},
     "output_type": "execute_result"
    }
   ],
   "source": [
    "text1 = \"A Agilent Technologies current stock price $130 Low of $130.01 P/E (price-to-earnings ratio) 31.09 Annuel EPS grow past 5 years 33%\\\\nEPS Q/Q (quarterly earnings growth) 31% Closed yesterday at $133 - needs to pull back to $113 to close that gap. LT Puts?\"\n",
    "\n",
    "sentiment_analyzer_scores(text1)"
   ]
  },
  {
   "cell_type": "code",
   "execution_count": null,
   "id": "1022a4c7",
   "metadata": {},
   "outputs": [],
   "source": []
  }
 ],
 "metadata": {
  "kernelspec": {
   "display_name": "Python 3 (ipykernel)",
   "language": "python",
   "name": "python3"
  },
  "language_info": {
   "codemirror_mode": {
    "name": "ipython",
    "version": 3
   },
   "file_extension": ".py",
   "mimetype": "text/x-python",
   "name": "python",
   "nbconvert_exporter": "python",
   "pygments_lexer": "ipython3",
   "version": "3.11.4"
  }
 },
 "nbformat": 4,
 "nbformat_minor": 5
}
